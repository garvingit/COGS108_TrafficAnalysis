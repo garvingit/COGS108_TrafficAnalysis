{
 "cells": [
  {
   "cell_type": "code",
   "execution_count": 1,
   "metadata": {
    "id": "xZaUbYNETtkm"
   },
   "outputs": [],
   "source": [
    "#pip install geopandas\n",
    "#uncomment above to install geopandas"
   ]
  },
  {
   "cell_type": "code",
   "execution_count": 2,
   "metadata": {
    "id": "wYBy3gRjgvMb"
   },
   "outputs": [],
   "source": [
    "import numpy as np\n",
    "import pandas as pd\n",
    "import matplotlib.pyplot as plt\n",
    "\n",
    "import geopandas as gpd\n",
    "from shapely.geometry import Point, Polygon"
   ]
  },
  {
   "cell_type": "markdown",
   "metadata": {
    "id": "XCu8uZstHLPK"
   },
   "source": [
    "## Loading in Dataset"
   ]
  },
  {
   "cell_type": "code",
   "execution_count": 3,
   "metadata": {
    "id": "dgDxABykh6cA"
   },
   "outputs": [],
   "source": [
    "df = pd.read_csv(\"NYC Accidents 2020.csv\") "
   ]
  },
  {
   "cell_type": "code",
   "execution_count": 4,
   "metadata": {
    "colab": {
     "base_uri": "https://localhost:8080/",
     "height": 496
    },
    "id": "rCVfBCZ1HWV0",
    "outputId": "a9dfd7b2-0a9f-4ce2-babe-0a3de9ae59cc"
   },
   "outputs": [
    {
     "data": {
      "text/html": [
       "<div>\n",
       "<style scoped>\n",
       "    .dataframe tbody tr th:only-of-type {\n",
       "        vertical-align: middle;\n",
       "    }\n",
       "\n",
       "    .dataframe tbody tr th {\n",
       "        vertical-align: top;\n",
       "    }\n",
       "\n",
       "    .dataframe thead th {\n",
       "        text-align: right;\n",
       "    }\n",
       "</style>\n",
       "<table border=\"1\" class=\"dataframe\">\n",
       "  <thead>\n",
       "    <tr style=\"text-align: right;\">\n",
       "      <th></th>\n",
       "      <th>CRASH DATE</th>\n",
       "      <th>CRASH TIME</th>\n",
       "      <th>BOROUGH</th>\n",
       "      <th>ZIP CODE</th>\n",
       "      <th>LATITUDE</th>\n",
       "      <th>LONGITUDE</th>\n",
       "      <th>LOCATION</th>\n",
       "      <th>ON STREET NAME</th>\n",
       "      <th>CROSS STREET NAME</th>\n",
       "      <th>OFF STREET NAME</th>\n",
       "      <th>NUMBER OF PERSONS INJURED</th>\n",
       "      <th>NUMBER OF PERSONS KILLED</th>\n",
       "      <th>NUMBER OF PEDESTRIANS INJURED</th>\n",
       "      <th>NUMBER OF PEDESTRIANS KILLED</th>\n",
       "      <th>NUMBER OF CYCLIST INJURED</th>\n",
       "      <th>NUMBER OF CYCLIST KILLED</th>\n",
       "      <th>NUMBER OF MOTORIST INJURED</th>\n",
       "      <th>NUMBER OF MOTORIST KILLED</th>\n",
       "      <th>CONTRIBUTING FACTOR VEHICLE 1</th>\n",
       "      <th>CONTRIBUTING FACTOR VEHICLE 2</th>\n",
       "      <th>CONTRIBUTING FACTOR VEHICLE 3</th>\n",
       "      <th>CONTRIBUTING FACTOR VEHICLE 4</th>\n",
       "      <th>CONTRIBUTING FACTOR VEHICLE 5</th>\n",
       "      <th>COLLISION_ID</th>\n",
       "      <th>VEHICLE TYPE CODE 1</th>\n",
       "      <th>VEHICLE TYPE CODE 2</th>\n",
       "      <th>VEHICLE TYPE CODE 3</th>\n",
       "      <th>VEHICLE TYPE CODE 4</th>\n",
       "      <th>VEHICLE TYPE CODE 5</th>\n",
       "    </tr>\n",
       "  </thead>\n",
       "  <tbody>\n",
       "    <tr>\n",
       "      <th>0</th>\n",
       "      <td>2020-08-29</td>\n",
       "      <td>15:40:00</td>\n",
       "      <td>BRONX</td>\n",
       "      <td>10466.0</td>\n",
       "      <td>40.89210</td>\n",
       "      <td>-73.833760</td>\n",
       "      <td>POINT (-73.83376 40.8921)</td>\n",
       "      <td>PRATT AVENUE</td>\n",
       "      <td>STRANG AVENUE</td>\n",
       "      <td>NaN</td>\n",
       "      <td>0</td>\n",
       "      <td>0</td>\n",
       "      <td>0</td>\n",
       "      <td>0</td>\n",
       "      <td>0</td>\n",
       "      <td>0</td>\n",
       "      <td>0</td>\n",
       "      <td>0</td>\n",
       "      <td>Passing Too Closely</td>\n",
       "      <td>Unspecified</td>\n",
       "      <td>NaN</td>\n",
       "      <td>NaN</td>\n",
       "      <td>NaN</td>\n",
       "      <td>4342908</td>\n",
       "      <td>Sedan</td>\n",
       "      <td>Station Wagon/Sport Utility Vehicle</td>\n",
       "      <td>NaN</td>\n",
       "      <td>NaN</td>\n",
       "      <td>NaN</td>\n",
       "    </tr>\n",
       "    <tr>\n",
       "      <th>1</th>\n",
       "      <td>2020-08-29</td>\n",
       "      <td>21:00:00</td>\n",
       "      <td>BROOKLYN</td>\n",
       "      <td>11221.0</td>\n",
       "      <td>40.69050</td>\n",
       "      <td>-73.919914</td>\n",
       "      <td>POINT (-73.919914 40.6905)</td>\n",
       "      <td>BUSHWICK AVENUE</td>\n",
       "      <td>PALMETTO STREET</td>\n",
       "      <td>NaN</td>\n",
       "      <td>2</td>\n",
       "      <td>0</td>\n",
       "      <td>0</td>\n",
       "      <td>0</td>\n",
       "      <td>0</td>\n",
       "      <td>0</td>\n",
       "      <td>2</td>\n",
       "      <td>0</td>\n",
       "      <td>Reaction to Uninvolved Vehicle</td>\n",
       "      <td>Unspecified</td>\n",
       "      <td>NaN</td>\n",
       "      <td>NaN</td>\n",
       "      <td>NaN</td>\n",
       "      <td>4343555</td>\n",
       "      <td>Sedan</td>\n",
       "      <td>Sedan</td>\n",
       "      <td>NaN</td>\n",
       "      <td>NaN</td>\n",
       "      <td>NaN</td>\n",
       "    </tr>\n",
       "    <tr>\n",
       "      <th>2</th>\n",
       "      <td>2020-08-29</td>\n",
       "      <td>18:20:00</td>\n",
       "      <td>NaN</td>\n",
       "      <td>NaN</td>\n",
       "      <td>40.81650</td>\n",
       "      <td>-73.946556</td>\n",
       "      <td>POINT (-73.946556 40.8165)</td>\n",
       "      <td>8 AVENUE</td>\n",
       "      <td>NaN</td>\n",
       "      <td>NaN</td>\n",
       "      <td>1</td>\n",
       "      <td>0</td>\n",
       "      <td>1</td>\n",
       "      <td>0</td>\n",
       "      <td>0</td>\n",
       "      <td>0</td>\n",
       "      <td>0</td>\n",
       "      <td>0</td>\n",
       "      <td>Backing Unsafely</td>\n",
       "      <td>NaN</td>\n",
       "      <td>NaN</td>\n",
       "      <td>NaN</td>\n",
       "      <td>NaN</td>\n",
       "      <td>4343142</td>\n",
       "      <td>Station Wagon/Sport Utility Vehicle</td>\n",
       "      <td>NaN</td>\n",
       "      <td>NaN</td>\n",
       "      <td>NaN</td>\n",
       "      <td>NaN</td>\n",
       "    </tr>\n",
       "    <tr>\n",
       "      <th>3</th>\n",
       "      <td>2020-08-29</td>\n",
       "      <td>00:00:00</td>\n",
       "      <td>BRONX</td>\n",
       "      <td>10459.0</td>\n",
       "      <td>40.82472</td>\n",
       "      <td>-73.892960</td>\n",
       "      <td>POINT (-73.89296 40.82472)</td>\n",
       "      <td>NaN</td>\n",
       "      <td>NaN</td>\n",
       "      <td>1047 SIMPSON STREET</td>\n",
       "      <td>0</td>\n",
       "      <td>0</td>\n",
       "      <td>0</td>\n",
       "      <td>0</td>\n",
       "      <td>0</td>\n",
       "      <td>0</td>\n",
       "      <td>0</td>\n",
       "      <td>0</td>\n",
       "      <td>Unsafe Speed</td>\n",
       "      <td>Unspecified</td>\n",
       "      <td>Unspecified</td>\n",
       "      <td>Unspecified</td>\n",
       "      <td>NaN</td>\n",
       "      <td>4343588</td>\n",
       "      <td>Station Wagon/Sport Utility Vehicle</td>\n",
       "      <td>Station Wagon/Sport Utility Vehicle</td>\n",
       "      <td>Sedan</td>\n",
       "      <td>Motorcycle</td>\n",
       "      <td>NaN</td>\n",
       "    </tr>\n",
       "    <tr>\n",
       "      <th>4</th>\n",
       "      <td>2020-08-29</td>\n",
       "      <td>17:10:00</td>\n",
       "      <td>BROOKLYN</td>\n",
       "      <td>11203.0</td>\n",
       "      <td>40.64989</td>\n",
       "      <td>-73.933890</td>\n",
       "      <td>POINT (-73.93389 40.64989)</td>\n",
       "      <td>NaN</td>\n",
       "      <td>NaN</td>\n",
       "      <td>4609 SNYDER AVENUE</td>\n",
       "      <td>0</td>\n",
       "      <td>0</td>\n",
       "      <td>0</td>\n",
       "      <td>0</td>\n",
       "      <td>0</td>\n",
       "      <td>0</td>\n",
       "      <td>0</td>\n",
       "      <td>0</td>\n",
       "      <td>Failure to Yield Right-of-Way</td>\n",
       "      <td>Unspecified</td>\n",
       "      <td>NaN</td>\n",
       "      <td>NaN</td>\n",
       "      <td>NaN</td>\n",
       "      <td>4342953</td>\n",
       "      <td>Sedan</td>\n",
       "      <td>Sedan</td>\n",
       "      <td>NaN</td>\n",
       "      <td>NaN</td>\n",
       "      <td>NaN</td>\n",
       "    </tr>\n",
       "  </tbody>\n",
       "</table>\n",
       "</div>"
      ],
      "text/plain": [
       "   CRASH DATE CRASH TIME  ... VEHICLE TYPE CODE 4  VEHICLE TYPE CODE 5\n",
       "0  2020-08-29   15:40:00  ...                 NaN                  NaN\n",
       "1  2020-08-29   21:00:00  ...                 NaN                  NaN\n",
       "2  2020-08-29   18:20:00  ...                 NaN                  NaN\n",
       "3  2020-08-29   00:00:00  ...          Motorcycle                  NaN\n",
       "4  2020-08-29   17:10:00  ...                 NaN                  NaN\n",
       "\n",
       "[5 rows x 29 columns]"
      ]
     },
     "execution_count": 4,
     "metadata": {
      "tags": []
     },
     "output_type": "execute_result"
    }
   ],
   "source": [
    "#what original dataset looks like\n",
    "df.head()"
   ]
  },
  {
   "cell_type": "code",
   "execution_count": 5,
   "metadata": {
    "colab": {
     "base_uri": "https://localhost:8080/"
    },
    "id": "p8Lbwe6CIo0N",
    "outputId": "bfd39f88-04ef-4bae-bdc9-df1917b50a44"
   },
   "outputs": [
    {
     "data": {
      "text/plain": [
       "((74881, 29),\n",
       " Index(['CRASH DATE', 'CRASH TIME', 'BOROUGH', 'ZIP CODE', 'LATITUDE',\n",
       "        'LONGITUDE', 'LOCATION', 'ON STREET NAME', 'CROSS STREET NAME',\n",
       "        'OFF STREET NAME', 'NUMBER OF PERSONS INJURED',\n",
       "        'NUMBER OF PERSONS KILLED', 'NUMBER OF PEDESTRIANS INJURED',\n",
       "        'NUMBER OF PEDESTRIANS KILLED', 'NUMBER OF CYCLIST INJURED',\n",
       "        'NUMBER OF CYCLIST KILLED', 'NUMBER OF MOTORIST INJURED',\n",
       "        'NUMBER OF MOTORIST KILLED', 'CONTRIBUTING FACTOR VEHICLE 1',\n",
       "        'CONTRIBUTING FACTOR VEHICLE 2', 'CONTRIBUTING FACTOR VEHICLE 3',\n",
       "        'CONTRIBUTING FACTOR VEHICLE 4', 'CONTRIBUTING FACTOR VEHICLE 5',\n",
       "        'COLLISION_ID', 'VEHICLE TYPE CODE 1', 'VEHICLE TYPE CODE 2',\n",
       "        'VEHICLE TYPE CODE 3', 'VEHICLE TYPE CODE 4', 'VEHICLE TYPE CODE 5'],\n",
       "       dtype='object'))"
      ]
     },
     "execution_count": 5,
     "metadata": {
      "tags": []
     },
     "output_type": "execute_result"
    }
   ],
   "source": [
    "(df.shape, df.columns) #shape and columns"
   ]
  },
  {
   "cell_type": "code",
   "execution_count": 6,
   "metadata": {
    "colab": {
     "base_uri": "https://localhost:8080/",
     "height": 204
    },
    "id": "oIGfL766HKzJ",
    "outputId": "4ef08c77-252c-4903-c698-762362460d1b"
   },
   "outputs": [
    {
     "data": {
      "text/html": [
       "<div>\n",
       "<style scoped>\n",
       "    .dataframe tbody tr th:only-of-type {\n",
       "        vertical-align: middle;\n",
       "    }\n",
       "\n",
       "    .dataframe tbody tr th {\n",
       "        vertical-align: top;\n",
       "    }\n",
       "\n",
       "    .dataframe thead th {\n",
       "        text-align: right;\n",
       "    }\n",
       "</style>\n",
       "<table border=\"1\" class=\"dataframe\">\n",
       "  <thead>\n",
       "    <tr style=\"text-align: right;\">\n",
       "      <th></th>\n",
       "      <th>date</th>\n",
       "      <th>time</th>\n",
       "      <th>people_killed</th>\n",
       "      <th>street_name</th>\n",
       "      <th>latitude</th>\n",
       "      <th>longitude</th>\n",
       "    </tr>\n",
       "  </thead>\n",
       "  <tbody>\n",
       "    <tr>\n",
       "      <th>74880</th>\n",
       "      <td>2020-01-01</td>\n",
       "      <td>18:00:00</td>\n",
       "      <td>0</td>\n",
       "      <td>NaN</td>\n",
       "      <td>40.726875</td>\n",
       "      <td>-73.830960</td>\n",
       "    </tr>\n",
       "    <tr>\n",
       "      <th>74651</th>\n",
       "      <td>2020-01-01</td>\n",
       "      <td>12:20:00</td>\n",
       "      <td>0</td>\n",
       "      <td>QUEENS BOULEVARD</td>\n",
       "      <td>40.736750</td>\n",
       "      <td>-73.877670</td>\n",
       "    </tr>\n",
       "    <tr>\n",
       "      <th>74652</th>\n",
       "      <td>2020-01-01</td>\n",
       "      <td>02:05:00</td>\n",
       "      <td>0</td>\n",
       "      <td>HAMILTON AVENUE</td>\n",
       "      <td>40.645924</td>\n",
       "      <td>-74.086030</td>\n",
       "    </tr>\n",
       "    <tr>\n",
       "      <th>74653</th>\n",
       "      <td>2020-01-01</td>\n",
       "      <td>03:35:00</td>\n",
       "      <td>0</td>\n",
       "      <td>SCHENECTADY AVENUE</td>\n",
       "      <td>40.674300</td>\n",
       "      <td>-73.933390</td>\n",
       "    </tr>\n",
       "    <tr>\n",
       "      <th>74654</th>\n",
       "      <td>2020-01-01</td>\n",
       "      <td>17:51:00</td>\n",
       "      <td>1</td>\n",
       "      <td>NORTHERN BOULEVARD</td>\n",
       "      <td>40.764650</td>\n",
       "      <td>-73.823494</td>\n",
       "    </tr>\n",
       "  </tbody>\n",
       "</table>\n",
       "</div>"
      ],
      "text/plain": [
       "             date      time  ...   latitude  longitude\n",
       "74880  2020-01-01  18:00:00  ...  40.726875 -73.830960\n",
       "74651  2020-01-01  12:20:00  ...  40.736750 -73.877670\n",
       "74652  2020-01-01  02:05:00  ...  40.645924 -74.086030\n",
       "74653  2020-01-01  03:35:00  ...  40.674300 -73.933390\n",
       "74654  2020-01-01  17:51:00  ...  40.764650 -73.823494\n",
       "\n",
       "[5 rows x 6 columns]"
      ]
     },
     "execution_count": 6,
     "metadata": {
      "tags": []
     },
     "output_type": "execute_result"
    }
   ],
   "source": [
    "# Gets rid of data we're not using\n",
    "df_crash = df.loc[:, ['CRASH DATE', 'CRASH TIME', 'NUMBER OF PERSONS KILLED', 'ON STREET NAME', 'LATITUDE', 'LONGITUDE']] # Columns to include\n",
    "\n",
    "# Renames the columns\n",
    "df_crash.rename(columns={'CRASH DATE':'date',\n",
    "                   'CRASH TIME':'time',\n",
    "                   'NUMBER OF PERSONS KILLED':'people_killed',\n",
    "                   'ON STREET NAME':'street_name', \n",
    "                   'LATITUDE': 'latitude',\n",
    "                   'LONGITUDE': 'longitude'},inplace=True) \n",
    "df_crash = df_crash.sort_values(by=['date'])\n",
    "df_crash.head()"
   ]
  },
  {
   "cell_type": "code",
   "execution_count": 7,
   "metadata": {
    "id": "Ko653zf5kPxv"
   },
   "outputs": [],
   "source": [
    "def standardize_month(string):\n",
    "  output = string.split(\"-\")\n",
    "  month = output[1]\n",
    "  if '01' in month:\n",
    "    month = 'Jan'\n",
    "  elif '02' in month:\n",
    "    month = 'Feb'\n",
    "  elif '03' in month:\n",
    "    month = 'Mar'\n",
    "  elif '04' in month:\n",
    "    month = 'Apr'\n",
    "  elif '05' in month:\n",
    "    month = 'May'\n",
    "  elif '06' in month:\n",
    "    month = 'Jun'\n",
    "  elif '07' in month:\n",
    "    month = 'Jul'\n",
    "  elif '08' in month:\n",
    "    month = 'Aug'\n",
    "  elif '09' in month:\n",
    "    month = 'Sep'\n",
    "  elif '10' in month:\n",
    "    month = 'Oct'\n",
    "  elif '11' in month:\n",
    "    month = 'Nov'\n",
    "  elif '12' in month:\n",
    "    month = 'Dec'\n",
    "  return month"
   ]
  },
  {
   "cell_type": "code",
   "execution_count": 8,
   "metadata": {
    "colab": {
     "base_uri": "https://localhost:8080/",
     "height": 204
    },
    "id": "MF_q85WfsEj-",
    "outputId": "6ab0920e-2249-427a-d7e7-17b6ad410212"
   },
   "outputs": [
    {
     "data": {
      "text/html": [
       "<div>\n",
       "<style scoped>\n",
       "    .dataframe tbody tr th:only-of-type {\n",
       "        vertical-align: middle;\n",
       "    }\n",
       "\n",
       "    .dataframe tbody tr th {\n",
       "        vertical-align: top;\n",
       "    }\n",
       "\n",
       "    .dataframe thead th {\n",
       "        text-align: right;\n",
       "    }\n",
       "</style>\n",
       "<table border=\"1\" class=\"dataframe\">\n",
       "  <thead>\n",
       "    <tr style=\"text-align: right;\">\n",
       "      <th></th>\n",
       "      <th>date</th>\n",
       "      <th>time</th>\n",
       "      <th>people_killed</th>\n",
       "      <th>street_name</th>\n",
       "      <th>latitude</th>\n",
       "      <th>longitude</th>\n",
       "      <th>month</th>\n",
       "    </tr>\n",
       "  </thead>\n",
       "  <tbody>\n",
       "    <tr>\n",
       "      <th>74880</th>\n",
       "      <td>2020-01-01</td>\n",
       "      <td>18:00:00</td>\n",
       "      <td>0</td>\n",
       "      <td>NaN</td>\n",
       "      <td>40.726875</td>\n",
       "      <td>-73.830960</td>\n",
       "      <td>Jan</td>\n",
       "    </tr>\n",
       "    <tr>\n",
       "      <th>74651</th>\n",
       "      <td>2020-01-01</td>\n",
       "      <td>12:20:00</td>\n",
       "      <td>0</td>\n",
       "      <td>QUEENS BOULEVARD</td>\n",
       "      <td>40.736750</td>\n",
       "      <td>-73.877670</td>\n",
       "      <td>Jan</td>\n",
       "    </tr>\n",
       "    <tr>\n",
       "      <th>74652</th>\n",
       "      <td>2020-01-01</td>\n",
       "      <td>02:05:00</td>\n",
       "      <td>0</td>\n",
       "      <td>HAMILTON AVENUE</td>\n",
       "      <td>40.645924</td>\n",
       "      <td>-74.086030</td>\n",
       "      <td>Jan</td>\n",
       "    </tr>\n",
       "    <tr>\n",
       "      <th>74653</th>\n",
       "      <td>2020-01-01</td>\n",
       "      <td>03:35:00</td>\n",
       "      <td>0</td>\n",
       "      <td>SCHENECTADY AVENUE</td>\n",
       "      <td>40.674300</td>\n",
       "      <td>-73.933390</td>\n",
       "      <td>Jan</td>\n",
       "    </tr>\n",
       "    <tr>\n",
       "      <th>74654</th>\n",
       "      <td>2020-01-01</td>\n",
       "      <td>17:51:00</td>\n",
       "      <td>1</td>\n",
       "      <td>NORTHERN BOULEVARD</td>\n",
       "      <td>40.764650</td>\n",
       "      <td>-73.823494</td>\n",
       "      <td>Jan</td>\n",
       "    </tr>\n",
       "  </tbody>\n",
       "</table>\n",
       "</div>"
      ],
      "text/plain": [
       "             date      time  people_killed  ...   latitude  longitude  month\n",
       "74880  2020-01-01  18:00:00              0  ...  40.726875 -73.830960    Jan\n",
       "74651  2020-01-01  12:20:00              0  ...  40.736750 -73.877670    Jan\n",
       "74652  2020-01-01  02:05:00              0  ...  40.645924 -74.086030    Jan\n",
       "74653  2020-01-01  03:35:00              0  ...  40.674300 -73.933390    Jan\n",
       "74654  2020-01-01  17:51:00              1  ...  40.764650 -73.823494    Jan\n",
       "\n",
       "[5 rows x 7 columns]"
      ]
     },
     "execution_count": 8,
     "metadata": {
      "tags": []
     },
     "output_type": "execute_result"
    }
   ],
   "source": [
    "# Standardizes the months of the car accident\n",
    "df_crash['month'] = df_crash['date'].apply(standardize_month)\n",
    "df_crash.head()"
   ]
  },
  {
   "cell_type": "code",
   "execution_count": 9,
   "metadata": {
    "colab": {
     "base_uri": "https://localhost:8080/"
    },
    "id": "Jx-Yzhd79lmy",
    "outputId": "0bf3097e-5a35-4fc2-fa49-748126a127e8"
   },
   "outputs": [
    {
     "data": {
      "text/plain": [
       "Jan    14287\n",
       "Feb    13684\n",
       "Mar    11057\n",
       "Apr     4116\n",
       "May     6149\n",
       "Jun     7616\n",
       "Jul     9225\n",
       "Aug     8747\n",
       "Name: month, dtype: int64"
      ]
     },
     "execution_count": 9,
     "metadata": {
      "tags": []
     },
     "output_type": "execute_result"
    }
   ],
   "source": [
    "# Reindexes the dataframe\n",
    "months = [\"Jan\", \"Feb\", \"Mar\", \"Apr\", \"May\", \"Jun\", \n",
    "        \"Jul\", \"Aug\"]\n",
    "df_crash['month'].value_counts().reindex(index=months)"
   ]
  },
  {
   "cell_type": "code",
   "execution_count": 10,
   "metadata": {
    "colab": {
     "base_uri": "https://localhost:8080/",
     "height": 309
    },
    "id": "oawrjI2C3Tv1",
    "outputId": "d84fd93e-e34a-496d-ee78-d42ecef17495"
   },
   "outputs": [
    {
     "data": {
      "text/plain": [
       "<matplotlib.axes._subplots.AxesSubplot at 0x7f234228f550>"
      ]
     },
     "execution_count": 10,
     "metadata": {
      "tags": []
     },
     "output_type": "execute_result"
    },
    {
     "data": {
      "image/png": "[encoded data removed]",
      "text/plain": [
       "<Figure size 432x288 with 1 Axes>"
      ]
     },
     "metadata": {
      "needs_background": "light",
      "tags": []
     },
     "output_type": "display_data"
    }
   ],
   "source": [
    "# Plots the number of accidents by month\n",
    "df_crash['month'].value_counts().reindex(index=months).plot(kind='bar', title='Number of Car Accidents per Month')"
   ]
  },
  {
   "cell_type": "code",
   "execution_count": 11,
   "metadata": {
    "id": "RvupZR2z62sO"
   },
   "outputs": [],
   "source": [
    "# Create a new dataframe containing the car accidents where a fatality occurred\n",
    "df_fatal = df_crash[df_crash['people_killed'].astype(int)  > 0]"
   ]
  },
  {
   "cell_type": "code",
   "execution_count": 12,
   "metadata": {
    "colab": {
     "base_uri": "https://localhost:8080/",
     "height": 309
    },
    "id": "N-qf46xYLZT6",
    "outputId": "8b733264-eb47-4ca4-f264-2b056c1b35dd"
   },
   "outputs": [
    {
     "data": {
      "text/plain": [
       "<matplotlib.axes._subplots.AxesSubplot at 0x7f2341a9bf28>"
      ]
     },
     "execution_count": 12,
     "metadata": {
      "tags": []
     },
     "output_type": "execute_result"
    },
    {
     "data": {
      "image/png": "[encoded data removed]",
      "text/plain": [
       "<Figure size 432x288 with 1 Axes>"
      ]
     },
     "metadata": {
      "needs_background": "light",
      "tags": []
     },
     "output_type": "display_data"
    }
   ],
   "source": [
    "# Plots the number of car accident fatalities by month\n",
    "df_fatal['month'].value_counts().reindex(index=months).plot(kind='bar', title='Number of Car Accident Fatalities per Month')"
   ]
  },
  {
   "cell_type": "code",
   "execution_count": 13,
   "metadata": {
    "colab": {
     "base_uri": "https://localhost:8080/",
     "height": 880
    },
    "id": "lTv6nslSHFdI",
    "outputId": "0e75f233-6a05-454d-8ff2-5af24db12d5d"
   },
   "outputs": [
    {
     "data": {
      "text/plain": [
       "<matplotlib.axes._subplots.AxesSubplot at 0x7f23422c9be0>"
      ]
     },
     "execution_count": 13,
     "metadata": {
      "tags": []
     },
     "output_type": "execute_result"
    },
    {
     "data": {
      "image/png": "[encoded data removed]",
      "text/plain": [
       "<Figure size 1080x1080 with 1 Axes>"
      ]
     },
     "metadata": {
      "needs_background": "light",
      "tags": []
     },
     "output_type": "display_data"
    }
   ],
   "source": [
    "nyc_map = gpd.read_file('NYC.shp')\n",
    "fig, ax = plt.subplots(figsize = (15, 15))\n",
    "nyc_map.plot(ax=ax)"
   ]
  }
 ],
 "metadata": {
  "colab": {
   "collapsed_sections": [],
   "name": "COGS108FInal_040.ipynb",
   "provenance": [],
   "toc_visible": true
  },
  "kernelspec": {
   "display_name": "Python 3",
   "language": "python",
   "name": "python3"
  },
  "language_info": {
   "codemirror_mode": {
    "name": "ipython",
    "version": 3
   },
   "file_extension": ".py",
   "mimetype": "text/x-python",
   "name": "python",
   "nbconvert_exporter": "python",
   "pygments_lexer": "ipython3",
   "version": "3.7.4"
  }
 },
 "nbformat": 4,
 "nbformat_minor": 1
}

{
  "nbformat": 4,
  "nbformat_minor": 0,
  "metadata": {
    "colab": {
      "name": "FinalProject_group040.ipynb",
      "provenance": [],
      "collapsed_sections": [],
      "toc_visible": true
    },
    "kernelspec": {
      "name": "python3",
      "display_name": "Python 3"
    }
  },
  "cells": [
    {
      "cell_type": "markdown",
      "metadata": {
        "id": "KNPIE4fc1lI8"
      },
      "source": [
        "# Cogs 108 - Final Project"
      ]
    },
    {
      "cell_type": "markdown",
      "metadata": {
        "id": "n9MNF3fX4JMa"
      },
      "source": [
        "# Permissions\n",
        "\n",
        "\n",
        "> We allow this study to be made public.\n",
        "\n",
        "\n"
      ]
    },
    {
      "cell_type": "markdown",
      "metadata": {
        "id": "iCK1bdTgOM6d"
      },
      "source": [
        "# Overview\r\n"
      ]
    },
    {
      "cell_type": "markdown",
      "metadata": {
        "id": "klNAZGRMCOEQ"
      },
      "source": [
        "Our team explored how COVID-19 cases are related to traffic collisions. We analyzed the rate of New York City’s cases and the number of the city’s traffic collisions starting from the onset of the pandemic to August of this year. We applied linear regression on log-transformed data and found a negative correlation between the number of COVID-19 cases and the number of traffic collisions."
      ]
    },
    {
      "cell_type": "markdown",
      "metadata": {
        "id": "v1NJqt7_2KxC"
      },
      "source": [
        "# Names\n",
        "\n",
        "- Garvin Mo Zhen\n",
        "- Melvin Chang\n",
        "- Julie Han\n",
        "- Nidhin Madhu"
      ]
    },
    {
      "cell_type": "markdown",
      "metadata": {
        "id": "OFgGwjuTeRr2"
      },
      "source": [
        "# Research Question\r\n",
        "Is there a relationship between COVID-19 cases and the number of traffic collisions occurring in New York City? "
      ]
    },
    {
      "cell_type": "markdown",
      "metadata": {
        "id": "9b-n4VLcNkv2"
      },
      "source": [
        "# Background and Prior Work\r\n",
        "COVID-19 has resulted in several million infected individuals, and over thousands of deaths globally. In response to the rising infection rate, government-enforced lockdown restrictions began taking place in March 2020. These restrictions included implementing shelter-in-place and limiting non-essential travel. With fewer individuals and vehicles on the go, traffic collisions and related incidents are expected to have decreased.\r\n",
        "\r\n",
        "According to an article published by [UC Davis](https://www.ucdavis.edu/news/california-covid-19-traffic-report-finds-silver-lining/), they reported that traffic accidents and traffic related injuries and death decreased by half during the first three weeks of California’s shelter-in-place order. On the other hand, a [Washington Post](https://www.washingtonpost.com/local/trafficandcommuting/the-coronavirus-pandemic-emptied-americas-highways-now-speeders-have-taken-over/2020/05/10/c98d570c-8bb4-11ea-9dfd-990f9dcc71fc_story.html) article described a disproportionate occurrence of speed-related crashes and fatalities during the first three months of the pandemic, months that received an especial surge in number of cases . \r\n",
        "\r\n",
        "We are curious to what extent either of these conclusions remain true for [New York City](https://www.nytimes.com/2020/11/12/us/coronavirus-crisis-united-states.html), the U.S. epicenter of the pandemic during the first few months of the outbreak, and one of the first locations to pioneer shutdown regulations. \r\n",
        "\r\n",
        "Figuring out whether or not rising covid cases have interfered with traffic collisions and fatalities, may lead to exposure to the issue and potential implementation measures to further regulate health and safety on highways. We are trying to measure the unintended impacts of COVID-19 cases on traffic conditions. \r\n",
        "\r\n",
        "References used in background:\r\n",
        "\r\n",
        "Embedded hyperlinks\r\n",
        "\r\n",
        "References used throughout:\r\n",
        "\r\n",
        "-https://stats.stackexchange.com/questions/18480/interpretation-of-log-transformed-predictor-and-or-response\r\n",
        "\r\n",
        "-https://stats.idre.ucla.edu/other/mult-pkg/faq/general/faqhow-do-i-interpret-a-regression-model-when-some-variables-are-log-transformed/\r\n"
      ]
    },
    {
      "cell_type": "markdown",
      "metadata": {
        "id": "1icSFRyBOEO-"
      },
      "source": [
        "# Hypothesis\r\n",
        "We predict that the increase in  NYC’s COVID-19 cases would lead to a decrease in traffic collisions. In response to the rising number of cases, we expect stricter COVID-19 regulations to be implemented, meaning individuals will be forced to stay at home, work from home, and attend school online. As a result, we believe that there would be fewer vehicles on the streets and individuals are less likely to encounter head-on collisions. \r\n"
      ]
    },
    {
      "cell_type": "markdown",
      "metadata": {
        "id": "LCKqiGlIOQf2"
      },
      "source": [
        "# Datasets\r\n",
        "**Dataset Name: NYC Traffic Accidents**\r\n",
        "- Link to the dataset: https://www.kaggle.com/gauravmehta13/nyc-traffic-accidents\r\n",
        "- Number of observations: 74,881 (74,881 accidents x 29 columns)\r\n",
        "- Description: This dataset contains data of motor vehicle collisions reported by the New York Police department from January 2020 to August 2020, where each row is a reported collision. The original dataset contained 1.7 million rows starting from 2015, we found a smaller version of the dataset that would be more relevant to our project\r\n",
        "\r\n",
        "**Dataset Name: data-by-day.csv**\r\n",
        "- Link to the dataset: https://github.com/nychealth/coronavirus-data/blob/master/trends/data-by-day.csv\r\n",
        "- Number of observations: 288 (288 cases x 42 columns)\r\n",
        "- Description: This dataset contains the number of COVID-19 cases day-by-day in New York City from February 2020 to December 2020"
      ]
    },
    {
      "cell_type": "markdown",
      "metadata": {
        "id": "WdzXdoJtNZiQ"
      },
      "source": [
        "# Setup"
      ]
    },
    {
      "cell_type": "code",
      "metadata": {
        "id": "wYBy3gRjgvMb"
      },
      "source": [
        "#numpy and pandas\n",
        "import numpy as np\n",
        "import pandas as pd\n",
        "\n",
        "#for plotting\n",
        "import matplotlib.pyplot as plt\n",
        "import seaborn as sns\n",
        "\n",
        "#size of figures\n",
        "plt.rcParams['figure.figsize'] = (17, 7)\n",
        "\n",
        "# Statmodels & patsy\n",
        "import patsy\n",
        "import statsmodels.api as sm"
      ],
      "execution_count": 38,
      "outputs": []
    },
    {
      "cell_type": "markdown",
      "metadata": {
        "id": "XCu8uZstHLPK"
      },
      "source": [
        "## Data Cleaning\r\n",
        "\r\n",
        "First, we began by loading in our datasets into two DataFrame variables **df_crash** for the dataset containing NYC car accidents and **df_cases** for the dataset containing day-by-day COVID-19 cases in NYC. "
      ]
    },
    {
      "cell_type": "code",
      "metadata": {
        "id": "dgDxABykh6cA"
      },
      "source": [
        "# load in data\n",
        "df_crash = pd.read_csv(\"NYC Accidents 2020.csv\") \n",
        "df_cases = pd.read_csv(\"https://raw.githubusercontent.com/nychealth/coronavirus-data/master/trends/data-by-day.csv\") "
      ],
      "execution_count": 2,
      "outputs": []
    },
    {
      "cell_type": "code",
      "metadata": {
        "id": "rCVfBCZ1HWV0",
        "colab": {
          "base_uri": "https://localhost:8080/",
          "height": 496
        },
        "outputId": "62d1220a-e9c9-49a1-9031-570eb6e50c7b"
      },
      "source": [
        "# what the original datasets looks like\n",
        "df_crash.head()"
      ],
      "execution_count": 3,
      "outputs": [
        {
          "output_type": "execute_result",
          "data": {
            "text/html": [
              "<div>\n",
              "<style scoped>\n",
              "    .dataframe tbody tr th:only-of-type {\n",
              "        vertical-align: middle;\n",
              "    }\n",
              "\n",
              "    .dataframe tbody tr th {\n",
              "        vertical-align: top;\n",
              "    }\n",
              "\n",
              "    .dataframe thead th {\n",
              "        text-align: right;\n",
              "    }\n",
              "</style>\n",
              "<table border=\"1\" class=\"dataframe\">\n",
              "  <thead>\n",
              "    <tr style=\"text-align: right;\">\n",
              "      <th></th>\n",
              "      <th>CRASH DATE</th>\n",
              "      <th>CRASH TIME</th>\n",
              "      <th>BOROUGH</th>\n",
              "      <th>ZIP CODE</th>\n",
              "      <th>LATITUDE</th>\n",
              "      <th>LONGITUDE</th>\n",
              "      <th>LOCATION</th>\n",
              "      <th>ON STREET NAME</th>\n",
              "      <th>CROSS STREET NAME</th>\n",
              "      <th>OFF STREET NAME</th>\n",
              "      <th>NUMBER OF PERSONS INJURED</th>\n",
              "      <th>NUMBER OF PERSONS KILLED</th>\n",
              "      <th>NUMBER OF PEDESTRIANS INJURED</th>\n",
              "      <th>NUMBER OF PEDESTRIANS KILLED</th>\n",
              "      <th>NUMBER OF CYCLIST INJURED</th>\n",
              "      <th>NUMBER OF CYCLIST KILLED</th>\n",
              "      <th>NUMBER OF MOTORIST INJURED</th>\n",
              "      <th>NUMBER OF MOTORIST KILLED</th>\n",
              "      <th>CONTRIBUTING FACTOR VEHICLE 1</th>\n",
              "      <th>CONTRIBUTING FACTOR VEHICLE 2</th>\n",
              "      <th>CONTRIBUTING FACTOR VEHICLE 3</th>\n",
              "      <th>CONTRIBUTING FACTOR VEHICLE 4</th>\n",
              "      <th>CONTRIBUTING FACTOR VEHICLE 5</th>\n",
              "      <th>COLLISION_ID</th>\n",
              "      <th>VEHICLE TYPE CODE 1</th>\n",
              "      <th>VEHICLE TYPE CODE 2</th>\n",
              "      <th>VEHICLE TYPE CODE 3</th>\n",
              "      <th>VEHICLE TYPE CODE 4</th>\n",
              "      <th>VEHICLE TYPE CODE 5</th>\n",
              "    </tr>\n",
              "  </thead>\n",
              "  <tbody>\n",
              "    <tr>\n",
              "      <th>0</th>\n",
              "      <td>2020-08-29</td>\n",
              "      <td>15:40:00</td>\n",
              "      <td>BRONX</td>\n",
              "      <td>10466.0</td>\n",
              "      <td>40.89210</td>\n",
              "      <td>-73.833760</td>\n",
              "      <td>POINT (-73.83376 40.8921)</td>\n",
              "      <td>PRATT AVENUE</td>\n",
              "      <td>STRANG AVENUE</td>\n",
              "      <td>NaN</td>\n",
              "      <td>0</td>\n",
              "      <td>0</td>\n",
              "      <td>0</td>\n",
              "      <td>0</td>\n",
              "      <td>0</td>\n",
              "      <td>0</td>\n",
              "      <td>0</td>\n",
              "      <td>0</td>\n",
              "      <td>Passing Too Closely</td>\n",
              "      <td>Unspecified</td>\n",
              "      <td>NaN</td>\n",
              "      <td>NaN</td>\n",
              "      <td>NaN</td>\n",
              "      <td>4342908</td>\n",
              "      <td>Sedan</td>\n",
              "      <td>Station Wagon/Sport Utility Vehicle</td>\n",
              "      <td>NaN</td>\n",
              "      <td>NaN</td>\n",
              "      <td>NaN</td>\n",
              "    </tr>\n",
              "    <tr>\n",
              "      <th>1</th>\n",
              "      <td>2020-08-29</td>\n",
              "      <td>21:00:00</td>\n",
              "      <td>BROOKLYN</td>\n",
              "      <td>11221.0</td>\n",
              "      <td>40.69050</td>\n",
              "      <td>-73.919914</td>\n",
              "      <td>POINT (-73.919914 40.6905)</td>\n",
              "      <td>BUSHWICK AVENUE</td>\n",
              "      <td>PALMETTO STREET</td>\n",
              "      <td>NaN</td>\n",
              "      <td>2</td>\n",
              "      <td>0</td>\n",
              "      <td>0</td>\n",
              "      <td>0</td>\n",
              "      <td>0</td>\n",
              "      <td>0</td>\n",
              "      <td>2</td>\n",
              "      <td>0</td>\n",
              "      <td>Reaction to Uninvolved Vehicle</td>\n",
              "      <td>Unspecified</td>\n",
              "      <td>NaN</td>\n",
              "      <td>NaN</td>\n",
              "      <td>NaN</td>\n",
              "      <td>4343555</td>\n",
              "      <td>Sedan</td>\n",
              "      <td>Sedan</td>\n",
              "      <td>NaN</td>\n",
              "      <td>NaN</td>\n",
              "      <td>NaN</td>\n",
              "    </tr>\n",
              "    <tr>\n",
              "      <th>2</th>\n",
              "      <td>2020-08-29</td>\n",
              "      <td>18:20:00</td>\n",
              "      <td>NaN</td>\n",
              "      <td>NaN</td>\n",
              "      <td>40.81650</td>\n",
              "      <td>-73.946556</td>\n",
              "      <td>POINT (-73.946556 40.8165)</td>\n",
              "      <td>8 AVENUE</td>\n",
              "      <td>NaN</td>\n",
              "      <td>NaN</td>\n",
              "      <td>1</td>\n",
              "      <td>0</td>\n",
              "      <td>1</td>\n",
              "      <td>0</td>\n",
              "      <td>0</td>\n",
              "      <td>0</td>\n",
              "      <td>0</td>\n",
              "      <td>0</td>\n",
              "      <td>Backing Unsafely</td>\n",
              "      <td>NaN</td>\n",
              "      <td>NaN</td>\n",
              "      <td>NaN</td>\n",
              "      <td>NaN</td>\n",
              "      <td>4343142</td>\n",
              "      <td>Station Wagon/Sport Utility Vehicle</td>\n",
              "      <td>NaN</td>\n",
              "      <td>NaN</td>\n",
              "      <td>NaN</td>\n",
              "      <td>NaN</td>\n",
              "    </tr>\n",
              "    <tr>\n",
              "      <th>3</th>\n",
              "      <td>2020-08-29</td>\n",
              "      <td>00:00:00</td>\n",
              "      <td>BRONX</td>\n",
              "      <td>10459.0</td>\n",
              "      <td>40.82472</td>\n",
              "      <td>-73.892960</td>\n",
              "      <td>POINT (-73.89296 40.82472)</td>\n",
              "      <td>NaN</td>\n",
              "      <td>NaN</td>\n",
              "      <td>1047 SIMPSON STREET</td>\n",
              "      <td>0</td>\n",
              "      <td>0</td>\n",
              "      <td>0</td>\n",
              "      <td>0</td>\n",
              "      <td>0</td>\n",
              "      <td>0</td>\n",
              "      <td>0</td>\n",
              "      <td>0</td>\n",
              "      <td>Unsafe Speed</td>\n",
              "      <td>Unspecified</td>\n",
              "      <td>Unspecified</td>\n",
              "      <td>Unspecified</td>\n",
              "      <td>NaN</td>\n",
              "      <td>4343588</td>\n",
              "      <td>Station Wagon/Sport Utility Vehicle</td>\n",
              "      <td>Station Wagon/Sport Utility Vehicle</td>\n",
              "      <td>Sedan</td>\n",
              "      <td>Motorcycle</td>\n",
              "      <td>NaN</td>\n",
              "    </tr>\n",
              "    <tr>\n",
              "      <th>4</th>\n",
              "      <td>2020-08-29</td>\n",
              "      <td>17:10:00</td>\n",
              "      <td>BROOKLYN</td>\n",
              "      <td>11203.0</td>\n",
              "      <td>40.64989</td>\n",
              "      <td>-73.933890</td>\n",
              "      <td>POINT (-73.93389 40.64989)</td>\n",
              "      <td>NaN</td>\n",
              "      <td>NaN</td>\n",
              "      <td>4609 SNYDER AVENUE</td>\n",
              "      <td>0</td>\n",
              "      <td>0</td>\n",
              "      <td>0</td>\n",
              "      <td>0</td>\n",
              "      <td>0</td>\n",
              "      <td>0</td>\n",
              "      <td>0</td>\n",
              "      <td>0</td>\n",
              "      <td>Failure to Yield Right-of-Way</td>\n",
              "      <td>Unspecified</td>\n",
              "      <td>NaN</td>\n",
              "      <td>NaN</td>\n",
              "      <td>NaN</td>\n",
              "      <td>4342953</td>\n",
              "      <td>Sedan</td>\n",
              "      <td>Sedan</td>\n",
              "      <td>NaN</td>\n",
              "      <td>NaN</td>\n",
              "      <td>NaN</td>\n",
              "    </tr>\n",
              "  </tbody>\n",
              "</table>\n",
              "</div>"
            ],
            "text/plain": [
              "   CRASH DATE CRASH TIME  ... VEHICLE TYPE CODE 4  VEHICLE TYPE CODE 5\n",
              "0  2020-08-29   15:40:00  ...                 NaN                  NaN\n",
              "1  2020-08-29   21:00:00  ...                 NaN                  NaN\n",
              "2  2020-08-29   18:20:00  ...                 NaN                  NaN\n",
              "3  2020-08-29   00:00:00  ...          Motorcycle                  NaN\n",
              "4  2020-08-29   17:10:00  ...                 NaN                  NaN\n",
              "\n",
              "[5 rows x 29 columns]"
            ]
          },
          "metadata": {
            "tags": []
          },
          "execution_count": 3
        }
      ]
    },
    {
      "cell_type": "code",
      "metadata": {
        "colab": {
          "base_uri": "https://localhost:8080/",
          "height": 224
        },
        "id": "2A4jt_T-_UJa",
        "outputId": "f7b8dbb9-82fe-4586-db25-8cce38af2c78"
      },
      "source": [
        "df_cases.head()"
      ],
      "execution_count": 4,
      "outputs": [
        {
          "output_type": "execute_result",
          "data": {
            "text/html": [
              "<div>\n",
              "<style scoped>\n",
              "    .dataframe tbody tr th:only-of-type {\n",
              "        vertical-align: middle;\n",
              "    }\n",
              "\n",
              "    .dataframe tbody tr th {\n",
              "        vertical-align: top;\n",
              "    }\n",
              "\n",
              "    .dataframe thead th {\n",
              "        text-align: right;\n",
              "    }\n",
              "</style>\n",
              "<table border=\"1\" class=\"dataframe\">\n",
              "  <thead>\n",
              "    <tr style=\"text-align: right;\">\n",
              "      <th></th>\n",
              "      <th>date_of_interest</th>\n",
              "      <th>CASE_COUNT</th>\n",
              "      <th>PROBABLE_CASE_COUNT</th>\n",
              "      <th>HOSPITALIZED_COUNT</th>\n",
              "      <th>DEATH_COUNT</th>\n",
              "      <th>PROBABLE_DEATH_COUNT</th>\n",
              "      <th>CASE_COUNT_7DAY_AVG</th>\n",
              "      <th>ALL_CASE_COUNT_7DAY_AVG</th>\n",
              "      <th>HOSP_COUNT_7DAY_AVG</th>\n",
              "      <th>DEATH_COUNT_7DAY_AVG</th>\n",
              "      <th>ALL_DEATH_COUNT_7DAY_AVG</th>\n",
              "      <th>BX_CASE_COUNT</th>\n",
              "      <th>BX_HOSPITALIZED_COUNT</th>\n",
              "      <th>BX_DEATH_COUNT</th>\n",
              "      <th>BX_CASE_COUNT_7DAY_AVG</th>\n",
              "      <th>BX_HOSPITALIZED_COUNT_7DAY_AVG</th>\n",
              "      <th>BX_DEATH_COUNT_7DAY_AVG</th>\n",
              "      <th>BK_CASE_COUNT</th>\n",
              "      <th>BK_HOSPITALIZED_COUNT</th>\n",
              "      <th>BK_DEATH_COUNT</th>\n",
              "      <th>BK_CASE_COUNT_7DAY_AVG</th>\n",
              "      <th>BK_HOSPITALIZED_COUNT_7DAY_AVG</th>\n",
              "      <th>BK_DEATH_COUNT_7DAY_AVG</th>\n",
              "      <th>MN_CASE_COUNT</th>\n",
              "      <th>MN_HOSPITALIZED_COUNT</th>\n",
              "      <th>MN_DEATH_COUNT</th>\n",
              "      <th>MN_CASE_COUNT_7DAY_AVG</th>\n",
              "      <th>MN_HOSPITALIZED_COUNT_7DAY_AVG</th>\n",
              "      <th>MN_DEATH_COUNT_7DAY_AVG</th>\n",
              "      <th>QN_CASE_COUNT</th>\n",
              "      <th>QN_HOSPITALIZED_COUNT</th>\n",
              "      <th>QN_DEATH_COUNT</th>\n",
              "      <th>QN_CASE_COUNT_7DAY_AVG</th>\n",
              "      <th>QN_HOSPITALIZED_COUNT_7DAY_AVG</th>\n",
              "      <th>QN_DEATH_COUNT_7DAY_AVG</th>\n",
              "      <th>SI_CASE_COUNT</th>\n",
              "      <th>SI_HOSPITALIZED_COUNT</th>\n",
              "      <th>SI_DEATH_COUNT</th>\n",
              "      <th>SI_CASE_COUNT_7DAY_AVG</th>\n",
              "      <th>SI_HOSPITALIZED_COUNT_7DAY_AVG</th>\n",
              "      <th>SI_DEATH_COUNT_7DAY_AVG</th>\n",
              "      <th>INCOMPLETE</th>\n",
              "    </tr>\n",
              "  </thead>\n",
              "  <tbody>\n",
              "    <tr>\n",
              "      <th>0</th>\n",
              "      <td>02/29/2020</td>\n",
              "      <td>1</td>\n",
              "      <td>0</td>\n",
              "      <td>0</td>\n",
              "      <td>0</td>\n",
              "      <td>0</td>\n",
              "      <td>0</td>\n",
              "      <td>0</td>\n",
              "      <td>0</td>\n",
              "      <td>0</td>\n",
              "      <td>0</td>\n",
              "      <td>0</td>\n",
              "      <td>0</td>\n",
              "      <td>0</td>\n",
              "      <td>0</td>\n",
              "      <td>0</td>\n",
              "      <td>0</td>\n",
              "      <td>0</td>\n",
              "      <td>0</td>\n",
              "      <td>0</td>\n",
              "      <td>0</td>\n",
              "      <td>0</td>\n",
              "      <td>0</td>\n",
              "      <td>1</td>\n",
              "      <td>0</td>\n",
              "      <td>0</td>\n",
              "      <td>0</td>\n",
              "      <td>0</td>\n",
              "      <td>0</td>\n",
              "      <td>0</td>\n",
              "      <td>0</td>\n",
              "      <td>0</td>\n",
              "      <td>0</td>\n",
              "      <td>0</td>\n",
              "      <td>0</td>\n",
              "      <td>0</td>\n",
              "      <td>0</td>\n",
              "      <td>0</td>\n",
              "      <td>0</td>\n",
              "      <td>0</td>\n",
              "      <td>0</td>\n",
              "      <td>0</td>\n",
              "    </tr>\n",
              "    <tr>\n",
              "      <th>1</th>\n",
              "      <td>03/01/2020</td>\n",
              "      <td>0</td>\n",
              "      <td>0</td>\n",
              "      <td>0</td>\n",
              "      <td>0</td>\n",
              "      <td>0</td>\n",
              "      <td>0</td>\n",
              "      <td>0</td>\n",
              "      <td>0</td>\n",
              "      <td>0</td>\n",
              "      <td>0</td>\n",
              "      <td>0</td>\n",
              "      <td>0</td>\n",
              "      <td>0</td>\n",
              "      <td>0</td>\n",
              "      <td>0</td>\n",
              "      <td>0</td>\n",
              "      <td>0</td>\n",
              "      <td>0</td>\n",
              "      <td>0</td>\n",
              "      <td>0</td>\n",
              "      <td>0</td>\n",
              "      <td>0</td>\n",
              "      <td>0</td>\n",
              "      <td>0</td>\n",
              "      <td>0</td>\n",
              "      <td>0</td>\n",
              "      <td>0</td>\n",
              "      <td>0</td>\n",
              "      <td>0</td>\n",
              "      <td>0</td>\n",
              "      <td>0</td>\n",
              "      <td>0</td>\n",
              "      <td>0</td>\n",
              "      <td>0</td>\n",
              "      <td>0</td>\n",
              "      <td>0</td>\n",
              "      <td>0</td>\n",
              "      <td>0</td>\n",
              "      <td>0</td>\n",
              "      <td>0</td>\n",
              "      <td>0</td>\n",
              "    </tr>\n",
              "    <tr>\n",
              "      <th>2</th>\n",
              "      <td>03/02/2020</td>\n",
              "      <td>0</td>\n",
              "      <td>0</td>\n",
              "      <td>0</td>\n",
              "      <td>0</td>\n",
              "      <td>0</td>\n",
              "      <td>0</td>\n",
              "      <td>0</td>\n",
              "      <td>0</td>\n",
              "      <td>0</td>\n",
              "      <td>0</td>\n",
              "      <td>0</td>\n",
              "      <td>0</td>\n",
              "      <td>0</td>\n",
              "      <td>0</td>\n",
              "      <td>0</td>\n",
              "      <td>0</td>\n",
              "      <td>0</td>\n",
              "      <td>0</td>\n",
              "      <td>0</td>\n",
              "      <td>0</td>\n",
              "      <td>0</td>\n",
              "      <td>0</td>\n",
              "      <td>0</td>\n",
              "      <td>0</td>\n",
              "      <td>0</td>\n",
              "      <td>0</td>\n",
              "      <td>0</td>\n",
              "      <td>0</td>\n",
              "      <td>0</td>\n",
              "      <td>0</td>\n",
              "      <td>0</td>\n",
              "      <td>0</td>\n",
              "      <td>0</td>\n",
              "      <td>0</td>\n",
              "      <td>0</td>\n",
              "      <td>0</td>\n",
              "      <td>0</td>\n",
              "      <td>0</td>\n",
              "      <td>0</td>\n",
              "      <td>0</td>\n",
              "      <td>0</td>\n",
              "    </tr>\n",
              "    <tr>\n",
              "      <th>3</th>\n",
              "      <td>03/03/2020</td>\n",
              "      <td>1</td>\n",
              "      <td>0</td>\n",
              "      <td>1</td>\n",
              "      <td>0</td>\n",
              "      <td>0</td>\n",
              "      <td>0</td>\n",
              "      <td>0</td>\n",
              "      <td>0</td>\n",
              "      <td>0</td>\n",
              "      <td>0</td>\n",
              "      <td>0</td>\n",
              "      <td>0</td>\n",
              "      <td>0</td>\n",
              "      <td>0</td>\n",
              "      <td>0</td>\n",
              "      <td>0</td>\n",
              "      <td>0</td>\n",
              "      <td>0</td>\n",
              "      <td>0</td>\n",
              "      <td>0</td>\n",
              "      <td>0</td>\n",
              "      <td>0</td>\n",
              "      <td>0</td>\n",
              "      <td>0</td>\n",
              "      <td>0</td>\n",
              "      <td>0</td>\n",
              "      <td>0</td>\n",
              "      <td>0</td>\n",
              "      <td>1</td>\n",
              "      <td>1</td>\n",
              "      <td>0</td>\n",
              "      <td>0</td>\n",
              "      <td>0</td>\n",
              "      <td>0</td>\n",
              "      <td>0</td>\n",
              "      <td>0</td>\n",
              "      <td>0</td>\n",
              "      <td>0</td>\n",
              "      <td>0</td>\n",
              "      <td>0</td>\n",
              "      <td>0</td>\n",
              "    </tr>\n",
              "    <tr>\n",
              "      <th>4</th>\n",
              "      <td>03/04/2020</td>\n",
              "      <td>5</td>\n",
              "      <td>0</td>\n",
              "      <td>2</td>\n",
              "      <td>0</td>\n",
              "      <td>0</td>\n",
              "      <td>0</td>\n",
              "      <td>0</td>\n",
              "      <td>0</td>\n",
              "      <td>0</td>\n",
              "      <td>0</td>\n",
              "      <td>0</td>\n",
              "      <td>0</td>\n",
              "      <td>0</td>\n",
              "      <td>0</td>\n",
              "      <td>0</td>\n",
              "      <td>0</td>\n",
              "      <td>1</td>\n",
              "      <td>1</td>\n",
              "      <td>0</td>\n",
              "      <td>0</td>\n",
              "      <td>0</td>\n",
              "      <td>0</td>\n",
              "      <td>2</td>\n",
              "      <td>1</td>\n",
              "      <td>0</td>\n",
              "      <td>0</td>\n",
              "      <td>0</td>\n",
              "      <td>0</td>\n",
              "      <td>2</td>\n",
              "      <td>0</td>\n",
              "      <td>0</td>\n",
              "      <td>0</td>\n",
              "      <td>0</td>\n",
              "      <td>0</td>\n",
              "      <td>0</td>\n",
              "      <td>0</td>\n",
              "      <td>0</td>\n",
              "      <td>0</td>\n",
              "      <td>0</td>\n",
              "      <td>0</td>\n",
              "      <td>0</td>\n",
              "    </tr>\n",
              "  </tbody>\n",
              "</table>\n",
              "</div>"
            ],
            "text/plain": [
              "  date_of_interest  CASE_COUNT  ...  SI_DEATH_COUNT_7DAY_AVG  INCOMPLETE\n",
              "0       02/29/2020           1  ...                        0           0\n",
              "1       03/01/2020           0  ...                        0           0\n",
              "2       03/02/2020           0  ...                        0           0\n",
              "3       03/03/2020           1  ...                        0           0\n",
              "4       03/04/2020           5  ...                        0           0\n",
              "\n",
              "[5 rows x 42 columns]"
            ]
          },
          "metadata": {
            "tags": []
          },
          "execution_count": 4
        }
      ]
    },
    {
      "cell_type": "code",
      "metadata": {
        "colab": {
          "base_uri": "https://localhost:8080/"
        },
        "id": "p8Lbwe6CIo0N",
        "outputId": "7aaff365-dbfb-4830-bb39-263c0f158eac"
      },
      "source": [
        "# shape and columns\r\n",
        "print(df_crash.shape, df_crash.columns)\r\n",
        "print(df_cases.shape, df_cases.columns)"
      ],
      "execution_count": 5,
      "outputs": [
        {
          "output_type": "stream",
          "text": [
            "(74881, 29) Index(['CRASH DATE', 'CRASH TIME', 'BOROUGH', 'ZIP CODE', 'LATITUDE',\n",
            "       'LONGITUDE', 'LOCATION', 'ON STREET NAME', 'CROSS STREET NAME',\n",
            "       'OFF STREET NAME', 'NUMBER OF PERSONS INJURED',\n",
            "       'NUMBER OF PERSONS KILLED', 'NUMBER OF PEDESTRIANS INJURED',\n",
            "       'NUMBER OF PEDESTRIANS KILLED', 'NUMBER OF CYCLIST INJURED',\n",
            "       'NUMBER OF CYCLIST KILLED', 'NUMBER OF MOTORIST INJURED',\n",
            "       'NUMBER OF MOTORIST KILLED', 'CONTRIBUTING FACTOR VEHICLE 1',\n",
            "       'CONTRIBUTING FACTOR VEHICLE 2', 'CONTRIBUTING FACTOR VEHICLE 3',\n",
            "       'CONTRIBUTING FACTOR VEHICLE 4', 'CONTRIBUTING FACTOR VEHICLE 5',\n",
            "       'COLLISION_ID', 'VEHICLE TYPE CODE 1', 'VEHICLE TYPE CODE 2',\n",
            "       'VEHICLE TYPE CODE 3', 'VEHICLE TYPE CODE 4', 'VEHICLE TYPE CODE 5'],\n",
            "      dtype='object')\n",
            "(288, 42) Index(['date_of_interest', 'CASE_COUNT', 'PROBABLE_CASE_COUNT',\n",
            "       'HOSPITALIZED_COUNT', 'DEATH_COUNT', 'PROBABLE_DEATH_COUNT',\n",
            "       'CASE_COUNT_7DAY_AVG', 'ALL_CASE_COUNT_7DAY_AVG', 'HOSP_COUNT_7DAY_AVG',\n",
            "       'DEATH_COUNT_7DAY_AVG', 'ALL_DEATH_COUNT_7DAY_AVG', 'BX_CASE_COUNT',\n",
            "       'BX_HOSPITALIZED_COUNT', 'BX_DEATH_COUNT', 'BX_CASE_COUNT_7DAY_AVG',\n",
            "       'BX_HOSPITALIZED_COUNT_7DAY_AVG', 'BX_DEATH_COUNT_7DAY_AVG',\n",
            "       'BK_CASE_COUNT', 'BK_HOSPITALIZED_COUNT', 'BK_DEATH_COUNT',\n",
            "       'BK_CASE_COUNT_7DAY_AVG', 'BK_HOSPITALIZED_COUNT_7DAY_AVG',\n",
            "       'BK_DEATH_COUNT_7DAY_AVG', 'MN_CASE_COUNT', 'MN_HOSPITALIZED_COUNT',\n",
            "       'MN_DEATH_COUNT', 'MN_CASE_COUNT_7DAY_AVG',\n",
            "       'MN_HOSPITALIZED_COUNT_7DAY_AVG', 'MN_DEATH_COUNT_7DAY_AVG',\n",
            "       'QN_CASE_COUNT', 'QN_HOSPITALIZED_COUNT', 'QN_DEATH_COUNT',\n",
            "       'QN_CASE_COUNT_7DAY_AVG', 'QN_HOSPITALIZED_COUNT_7DAY_AVG',\n",
            "       'QN_DEATH_COUNT_7DAY_AVG', 'SI_CASE_COUNT', 'SI_HOSPITALIZED_COUNT',\n",
            "       'SI_DEATH_COUNT', 'SI_CASE_COUNT_7DAY_AVG',\n",
            "       'SI_HOSPITALIZED_COUNT_7DAY_AVG', 'SI_DEATH_COUNT_7DAY_AVG',\n",
            "       'INCOMPLETE'],\n",
            "      dtype='object')\n"
          ],
          "name": "stdout"
        }
      ]
    },
    {
      "cell_type": "markdown",
      "metadata": {
        "id": "PG8DTtnzWhX_"
      },
      "source": [
        "We then only kept the columns which we deemed relevant for our project. For **df_crash**, we kept the date of the crash, the time of the crash, and the number of people killed because of the accident. Each column was renamed for simplicity purposes, and the DataFrame was sorted in chronological order beginning with January 1st."
      ]
    },
    {
      "cell_type": "code",
      "metadata": {
        "id": "oIGfL766HKzJ",
        "colab": {
          "base_uri": "https://localhost:8080/",
          "height": 204
        },
        "outputId": "88c1c511-05d8-4255-c2b7-f35bb63173d2"
      },
      "source": [
        "# gets rid of columns we're not using\n",
        "df_crash = df_crash.loc[:, ['CRASH DATE', 'NUMBER OF PERSONS KILLED']] \n",
        "\n",
        "# renames the columns\n",
        "df_crash.rename(columns={'CRASH DATE':'date', 'NUMBER OF PERSONS KILLED':'people_killed',}, inplace=True) \n",
        "df_crash = df_crash.sort_values(by=['date'])\n",
        "df_crash.head()"
      ],
      "execution_count": 6,
      "outputs": [
        {
          "output_type": "execute_result",
          "data": {
            "text/html": [
              "<div>\n",
              "<style scoped>\n",
              "    .dataframe tbody tr th:only-of-type {\n",
              "        vertical-align: middle;\n",
              "    }\n",
              "\n",
              "    .dataframe tbody tr th {\n",
              "        vertical-align: top;\n",
              "    }\n",
              "\n",
              "    .dataframe thead th {\n",
              "        text-align: right;\n",
              "    }\n",
              "</style>\n",
              "<table border=\"1\" class=\"dataframe\">\n",
              "  <thead>\n",
              "    <tr style=\"text-align: right;\">\n",
              "      <th></th>\n",
              "      <th>date</th>\n",
              "      <th>people_killed</th>\n",
              "    </tr>\n",
              "  </thead>\n",
              "  <tbody>\n",
              "    <tr>\n",
              "      <th>74880</th>\n",
              "      <td>2020-01-01</td>\n",
              "      <td>0</td>\n",
              "    </tr>\n",
              "    <tr>\n",
              "      <th>74651</th>\n",
              "      <td>2020-01-01</td>\n",
              "      <td>0</td>\n",
              "    </tr>\n",
              "    <tr>\n",
              "      <th>74652</th>\n",
              "      <td>2020-01-01</td>\n",
              "      <td>0</td>\n",
              "    </tr>\n",
              "    <tr>\n",
              "      <th>74653</th>\n",
              "      <td>2020-01-01</td>\n",
              "      <td>0</td>\n",
              "    </tr>\n",
              "    <tr>\n",
              "      <th>74654</th>\n",
              "      <td>2020-01-01</td>\n",
              "      <td>1</td>\n",
              "    </tr>\n",
              "  </tbody>\n",
              "</table>\n",
              "</div>"
            ],
            "text/plain": [
              "             date  people_killed\n",
              "74880  2020-01-01              0\n",
              "74651  2020-01-01              0\n",
              "74652  2020-01-01              0\n",
              "74653  2020-01-01              0\n",
              "74654  2020-01-01              1"
            ]
          },
          "metadata": {
            "tags": []
          },
          "execution_count": 6
        }
      ]
    },
    {
      "cell_type": "markdown",
      "metadata": {
        "id": "y7kwXfqMXlCE"
      },
      "source": [
        "Next, we created the function standardize_month() in order to sort each accident by the month in which it occurred. We used this to convert the date to its respective month, so we may sum the number of car accidents that occurred in NYC by month."
      ]
    },
    {
      "cell_type": "code",
      "metadata": {
        "id": "Ko653zf5kPxv"
      },
      "source": [
        "def standardize_month(string):\n",
        "  output = string.split(\"-\")\n",
        "  month = output[1]\n",
        "  if '01' in month:\n",
        "    month = 'Jan'\n",
        "  elif '02' in month:\n",
        "    month = 'Feb'\n",
        "  elif '03' in month:\n",
        "    month = 'Mar'\n",
        "  elif '04' in month:\n",
        "    month = 'Apr'\n",
        "  elif '05' in month:\n",
        "    month = 'May'\n",
        "  elif '06' in month:\n",
        "    month = 'Jun'\n",
        "  elif '07' in month:\n",
        "    month = 'Jul'\n",
        "  elif '08' in month:\n",
        "    month = 'Aug'\n",
        "  elif '09' in month:\n",
        "    month = 'Sep'\n",
        "  elif '10' in month:\n",
        "    month = 'Oct'\n",
        "  elif '11' in month:\n",
        "    month = 'Nov'\n",
        "  elif '12' in month:\n",
        "    month = 'Dec'\n",
        "  return month"
      ],
      "execution_count": 7,
      "outputs": []
    },
    {
      "cell_type": "markdown",
      "metadata": {
        "id": "5wkoCYaXZNRc"
      },
      "source": [
        "***Applying our function to df_crash and adding it as a new column to df_crash***"
      ]
    },
    {
      "cell_type": "code",
      "metadata": {
        "id": "MF_q85WfsEj-",
        "colab": {
          "base_uri": "https://localhost:8080/",
          "height": 419
        },
        "outputId": "e1f5cf2e-0216-4652-ebfe-8509828a6a16"
      },
      "source": [
        "# standardizes the months of the car accident\n",
        "df_crash['month'] = df_crash['date'].apply(standardize_month)\n",
        "df_crash"
      ],
      "execution_count": 8,
      "outputs": [
        {
          "output_type": "execute_result",
          "data": {
            "text/html": [
              "<div>\n",
              "<style scoped>\n",
              "    .dataframe tbody tr th:only-of-type {\n",
              "        vertical-align: middle;\n",
              "    }\n",
              "\n",
              "    .dataframe tbody tr th {\n",
              "        vertical-align: top;\n",
              "    }\n",
              "\n",
              "    .dataframe thead th {\n",
              "        text-align: right;\n",
              "    }\n",
              "</style>\n",
              "<table border=\"1\" class=\"dataframe\">\n",
              "  <thead>\n",
              "    <tr style=\"text-align: right;\">\n",
              "      <th></th>\n",
              "      <th>date</th>\n",
              "      <th>people_killed</th>\n",
              "      <th>month</th>\n",
              "    </tr>\n",
              "  </thead>\n",
              "  <tbody>\n",
              "    <tr>\n",
              "      <th>74880</th>\n",
              "      <td>2020-01-01</td>\n",
              "      <td>0</td>\n",
              "      <td>Jan</td>\n",
              "    </tr>\n",
              "    <tr>\n",
              "      <th>74651</th>\n",
              "      <td>2020-01-01</td>\n",
              "      <td>0</td>\n",
              "      <td>Jan</td>\n",
              "    </tr>\n",
              "    <tr>\n",
              "      <th>74652</th>\n",
              "      <td>2020-01-01</td>\n",
              "      <td>0</td>\n",
              "      <td>Jan</td>\n",
              "    </tr>\n",
              "    <tr>\n",
              "      <th>74653</th>\n",
              "      <td>2020-01-01</td>\n",
              "      <td>0</td>\n",
              "      <td>Jan</td>\n",
              "    </tr>\n",
              "    <tr>\n",
              "      <th>74654</th>\n",
              "      <td>2020-01-01</td>\n",
              "      <td>1</td>\n",
              "      <td>Jan</td>\n",
              "    </tr>\n",
              "    <tr>\n",
              "      <th>...</th>\n",
              "      <td>...</td>\n",
              "      <td>...</td>\n",
              "      <td>...</td>\n",
              "    </tr>\n",
              "    <tr>\n",
              "      <th>133</th>\n",
              "      <td>2020-08-29</td>\n",
              "      <td>0</td>\n",
              "      <td>Aug</td>\n",
              "    </tr>\n",
              "    <tr>\n",
              "      <th>132</th>\n",
              "      <td>2020-08-29</td>\n",
              "      <td>0</td>\n",
              "      <td>Aug</td>\n",
              "    </tr>\n",
              "    <tr>\n",
              "      <th>131</th>\n",
              "      <td>2020-08-29</td>\n",
              "      <td>0</td>\n",
              "      <td>Aug</td>\n",
              "    </tr>\n",
              "    <tr>\n",
              "      <th>141</th>\n",
              "      <td>2020-08-29</td>\n",
              "      <td>0</td>\n",
              "      <td>Aug</td>\n",
              "    </tr>\n",
              "    <tr>\n",
              "      <th>0</th>\n",
              "      <td>2020-08-29</td>\n",
              "      <td>0</td>\n",
              "      <td>Aug</td>\n",
              "    </tr>\n",
              "  </tbody>\n",
              "</table>\n",
              "<p>74881 rows × 3 columns</p>\n",
              "</div>"
            ],
            "text/plain": [
              "             date  people_killed month\n",
              "74880  2020-01-01              0   Jan\n",
              "74651  2020-01-01              0   Jan\n",
              "74652  2020-01-01              0   Jan\n",
              "74653  2020-01-01              0   Jan\n",
              "74654  2020-01-01              1   Jan\n",
              "...           ...            ...   ...\n",
              "133    2020-08-29              0   Aug\n",
              "132    2020-08-29              0   Aug\n",
              "131    2020-08-29              0   Aug\n",
              "141    2020-08-29              0   Aug\n",
              "0      2020-08-29              0   Aug\n",
              "\n",
              "[74881 rows x 3 columns]"
            ]
          },
          "metadata": {
            "tags": []
          },
          "execution_count": 8
        }
      ]
    },
    {
      "cell_type": "markdown",
      "metadata": {
        "id": "b1UQUJuEck1Q"
      },
      "source": [
        "Here, we created an array called *months* which stores String abbreviations of the months from January to August. We used this so that we can view the sum of accidents in each month in chronological order when we reindex the Series.\r\n",
        "\r\n",
        "We also created a DataFrame called **df_crashes_total** which contains the total amount of reported crashes in the given month from January to August."
      ]
    },
    {
      "cell_type": "code",
      "metadata": {
        "id": "Jx-Yzhd79lmy"
      },
      "source": [
        "# reindexes the dataframe\n",
        "months = [\"Jan\", \"Feb\", \"Mar\", \"Apr\", \"May\", \"Jun\", \n",
        "        \"Jul\", \"Aug\"]\n",
        "df_crashes_total = df_crash['month'].value_counts().reindex(index=months).to_frame().rename(columns={\"month\":\"crashes\"})"
      ],
      "execution_count": 9,
      "outputs": []
    },
    {
      "cell_type": "markdown",
      "metadata": {
        "id": "uNR0OJ096-RO"
      },
      "source": [
        "Next, we began to clean up the **df_cases** DataFrame which contains the data for the number of COVID-19 cases day-by-day in NYC. In **df_cases**, we kept the date of interest, the case count for that day, and also the death count for that day. Again, each column was renamed for simplicity."
      ]
    },
    {
      "cell_type": "code",
      "metadata": {
        "colab": {
          "base_uri": "https://localhost:8080/",
          "height": 419
        },
        "id": "VKu8_xTZ8GOs",
        "outputId": "80c6b30d-5b25-4af3-c041-f41cc8f3acca"
      },
      "source": [
        "# gets rid of columns we aren't using\r\n",
        "df_cases = df_cases.loc[:, ['date_of_interest', 'CASE_COUNT', 'DEATH_COUNT']] # Columns to include\r\n",
        "df_cases.rename(columns={'date_of_interest':'date',\r\n",
        "                   'CASE_COUNT':'cases',\r\n",
        "                   'DEATH_COUNT':'deaths'},inplace=True) \r\n",
        "df_cases"
      ],
      "execution_count": 10,
      "outputs": [
        {
          "output_type": "execute_result",
          "data": {
            "text/html": [
              "<div>\n",
              "<style scoped>\n",
              "    .dataframe tbody tr th:only-of-type {\n",
              "        vertical-align: middle;\n",
              "    }\n",
              "\n",
              "    .dataframe tbody tr th {\n",
              "        vertical-align: top;\n",
              "    }\n",
              "\n",
              "    .dataframe thead th {\n",
              "        text-align: right;\n",
              "    }\n",
              "</style>\n",
              "<table border=\"1\" class=\"dataframe\">\n",
              "  <thead>\n",
              "    <tr style=\"text-align: right;\">\n",
              "      <th></th>\n",
              "      <th>date</th>\n",
              "      <th>cases</th>\n",
              "      <th>deaths</th>\n",
              "    </tr>\n",
              "  </thead>\n",
              "  <tbody>\n",
              "    <tr>\n",
              "      <th>0</th>\n",
              "      <td>02/29/2020</td>\n",
              "      <td>1</td>\n",
              "      <td>0</td>\n",
              "    </tr>\n",
              "    <tr>\n",
              "      <th>1</th>\n",
              "      <td>03/01/2020</td>\n",
              "      <td>0</td>\n",
              "      <td>0</td>\n",
              "    </tr>\n",
              "    <tr>\n",
              "      <th>2</th>\n",
              "      <td>03/02/2020</td>\n",
              "      <td>0</td>\n",
              "      <td>0</td>\n",
              "    </tr>\n",
              "    <tr>\n",
              "      <th>3</th>\n",
              "      <td>03/03/2020</td>\n",
              "      <td>1</td>\n",
              "      <td>0</td>\n",
              "    </tr>\n",
              "    <tr>\n",
              "      <th>4</th>\n",
              "      <td>03/04/2020</td>\n",
              "      <td>5</td>\n",
              "      <td>0</td>\n",
              "    </tr>\n",
              "    <tr>\n",
              "      <th>...</th>\n",
              "      <td>...</td>\n",
              "      <td>...</td>\n",
              "      <td>...</td>\n",
              "    </tr>\n",
              "    <tr>\n",
              "      <th>283</th>\n",
              "      <td>12/08/2020</td>\n",
              "      <td>2829</td>\n",
              "      <td>17</td>\n",
              "    </tr>\n",
              "    <tr>\n",
              "      <th>284</th>\n",
              "      <td>12/09/2020</td>\n",
              "      <td>2771</td>\n",
              "      <td>19</td>\n",
              "    </tr>\n",
              "    <tr>\n",
              "      <th>285</th>\n",
              "      <td>12/10/2020</td>\n",
              "      <td>2489</td>\n",
              "      <td>20</td>\n",
              "    </tr>\n",
              "    <tr>\n",
              "      <th>286</th>\n",
              "      <td>12/11/2020</td>\n",
              "      <td>2008</td>\n",
              "      <td>15</td>\n",
              "    </tr>\n",
              "    <tr>\n",
              "      <th>287</th>\n",
              "      <td>12/12/2020</td>\n",
              "      <td>1138</td>\n",
              "      <td>13</td>\n",
              "    </tr>\n",
              "  </tbody>\n",
              "</table>\n",
              "<p>288 rows × 3 columns</p>\n",
              "</div>"
            ],
            "text/plain": [
              "           date  cases  deaths\n",
              "0    02/29/2020      1       0\n",
              "1    03/01/2020      0       0\n",
              "2    03/02/2020      0       0\n",
              "3    03/03/2020      1       0\n",
              "4    03/04/2020      5       0\n",
              "..          ...    ...     ...\n",
              "283  12/08/2020   2829      17\n",
              "284  12/09/2020   2771      19\n",
              "285  12/10/2020   2489      20\n",
              "286  12/11/2020   2008      15\n",
              "287  12/12/2020   1138      13\n",
              "\n",
              "[288 rows x 3 columns]"
            ]
          },
          "metadata": {
            "tags": []
          },
          "execution_count": 10
        }
      ]
    },
    {
      "cell_type": "markdown",
      "metadata": {
        "id": "VwDC_kHM-JMz"
      },
      "source": [
        "We created the function standardize_cases() in order to sort each case by the month in which it occurred. It functions the same as standardize_months() used above. We used this function to convert the date to its respective month, so we may sum the number of COVID-19 cases there were in NYC by month."
      ]
    },
    {
      "cell_type": "code",
      "metadata": {
        "id": "SwSrjlFxmQVm"
      },
      "source": [
        "def standardize_cases(string):\n",
        "  output = string.split(\"/\")\n",
        "  month = output[0]\n",
        "  if '01' in month:\n",
        "    month = 'Jan'\n",
        "  elif '02' in month:\n",
        "    month = 'Feb'\n",
        "  elif '03' in month:\n",
        "    month = 'Mar'\n",
        "  elif '04' in month:\n",
        "    month = 'Apr'\n",
        "  elif '05' in month:\n",
        "    month = 'May'\n",
        "  elif '06' in month:\n",
        "    month = 'Jun'\n",
        "  elif '07' in month:\n",
        "    month = 'Jul'\n",
        "  elif '08' in month:\n",
        "    month = 'Aug'\n",
        "  elif '09' in month:\n",
        "    month = 'Sep'\n",
        "  elif '10' in month:\n",
        "    month = 'Oct'\n",
        "  elif '11' in month:\n",
        "    month = 'Nov'\n",
        "  elif '12' in month:\n",
        "    month = 'Dec'\n",
        "  return month"
      ],
      "execution_count": 11,
      "outputs": []
    },
    {
      "cell_type": "markdown",
      "metadata": {
        "id": "t6YQ0xC0-w2y"
      },
      "source": [
        "***Applying our function to df_cases and adding it as a new column to df_cases***"
      ]
    },
    {
      "cell_type": "code",
      "metadata": {
        "colab": {
          "base_uri": "https://localhost:8080/",
          "height": 419
        },
        "id": "-GDoqOyChHXm",
        "outputId": "d21501f3-a85d-47b9-f2ac-bc339d46149f"
      },
      "source": [
        "df_cases['month'] = df_cases['date'].apply(standardize_cases)\n",
        "df_cases"
      ],
      "execution_count": 12,
      "outputs": [
        {
          "output_type": "execute_result",
          "data": {
            "text/html": [
              "<div>\n",
              "<style scoped>\n",
              "    .dataframe tbody tr th:only-of-type {\n",
              "        vertical-align: middle;\n",
              "    }\n",
              "\n",
              "    .dataframe tbody tr th {\n",
              "        vertical-align: top;\n",
              "    }\n",
              "\n",
              "    .dataframe thead th {\n",
              "        text-align: right;\n",
              "    }\n",
              "</style>\n",
              "<table border=\"1\" class=\"dataframe\">\n",
              "  <thead>\n",
              "    <tr style=\"text-align: right;\">\n",
              "      <th></th>\n",
              "      <th>date</th>\n",
              "      <th>cases</th>\n",
              "      <th>deaths</th>\n",
              "      <th>month</th>\n",
              "    </tr>\n",
              "  </thead>\n",
              "  <tbody>\n",
              "    <tr>\n",
              "      <th>0</th>\n",
              "      <td>02/29/2020</td>\n",
              "      <td>1</td>\n",
              "      <td>0</td>\n",
              "      <td>Feb</td>\n",
              "    </tr>\n",
              "    <tr>\n",
              "      <th>1</th>\n",
              "      <td>03/01/2020</td>\n",
              "      <td>0</td>\n",
              "      <td>0</td>\n",
              "      <td>Mar</td>\n",
              "    </tr>\n",
              "    <tr>\n",
              "      <th>2</th>\n",
              "      <td>03/02/2020</td>\n",
              "      <td>0</td>\n",
              "      <td>0</td>\n",
              "      <td>Mar</td>\n",
              "    </tr>\n",
              "    <tr>\n",
              "      <th>3</th>\n",
              "      <td>03/03/2020</td>\n",
              "      <td>1</td>\n",
              "      <td>0</td>\n",
              "      <td>Mar</td>\n",
              "    </tr>\n",
              "    <tr>\n",
              "      <th>4</th>\n",
              "      <td>03/04/2020</td>\n",
              "      <td>5</td>\n",
              "      <td>0</td>\n",
              "      <td>Mar</td>\n",
              "    </tr>\n",
              "    <tr>\n",
              "      <th>...</th>\n",
              "      <td>...</td>\n",
              "      <td>...</td>\n",
              "      <td>...</td>\n",
              "      <td>...</td>\n",
              "    </tr>\n",
              "    <tr>\n",
              "      <th>283</th>\n",
              "      <td>12/08/2020</td>\n",
              "      <td>2829</td>\n",
              "      <td>17</td>\n",
              "      <td>Dec</td>\n",
              "    </tr>\n",
              "    <tr>\n",
              "      <th>284</th>\n",
              "      <td>12/09/2020</td>\n",
              "      <td>2771</td>\n",
              "      <td>19</td>\n",
              "      <td>Dec</td>\n",
              "    </tr>\n",
              "    <tr>\n",
              "      <th>285</th>\n",
              "      <td>12/10/2020</td>\n",
              "      <td>2489</td>\n",
              "      <td>20</td>\n",
              "      <td>Dec</td>\n",
              "    </tr>\n",
              "    <tr>\n",
              "      <th>286</th>\n",
              "      <td>12/11/2020</td>\n",
              "      <td>2008</td>\n",
              "      <td>15</td>\n",
              "      <td>Dec</td>\n",
              "    </tr>\n",
              "    <tr>\n",
              "      <th>287</th>\n",
              "      <td>12/12/2020</td>\n",
              "      <td>1138</td>\n",
              "      <td>13</td>\n",
              "      <td>Dec</td>\n",
              "    </tr>\n",
              "  </tbody>\n",
              "</table>\n",
              "<p>288 rows × 4 columns</p>\n",
              "</div>"
            ],
            "text/plain": [
              "           date  cases  deaths month\n",
              "0    02/29/2020      1       0   Feb\n",
              "1    03/01/2020      0       0   Mar\n",
              "2    03/02/2020      0       0   Mar\n",
              "3    03/03/2020      1       0   Mar\n",
              "4    03/04/2020      5       0   Mar\n",
              "..          ...    ...     ...   ...\n",
              "283  12/08/2020   2829      17   Dec\n",
              "284  12/09/2020   2771      19   Dec\n",
              "285  12/10/2020   2489      20   Dec\n",
              "286  12/11/2020   2008      15   Dec\n",
              "287  12/12/2020   1138      13   Dec\n",
              "\n",
              "[288 rows x 4 columns]"
            ]
          },
          "metadata": {
            "tags": []
          },
          "execution_count": 12
        }
      ]
    },
    {
      "cell_type": "markdown",
      "metadata": {
        "id": "e7Dza5DVoGs7"
      },
      "source": [
        "In order to easily view the total number of COVID-19 cases each month, we made a **df_cases_total** DataFrame."
      ]
    },
    {
      "cell_type": "code",
      "metadata": {
        "colab": {
          "base_uri": "https://localhost:8080/",
          "height": 328
        },
        "id": "8ttd1hC4iiQ1",
        "outputId": "048f7077-48ca-4510-da1e-21368f4bdb57"
      },
      "source": [
        "df_cases_total = df_cases.groupby(['month'])[['cases']].sum().reindex(index=months).fillna(0)\n",
        "df_cases_total"
      ],
      "execution_count": 13,
      "outputs": [
        {
          "output_type": "execute_result",
          "data": {
            "text/html": [
              "<div>\n",
              "<style scoped>\n",
              "    .dataframe tbody tr th:only-of-type {\n",
              "        vertical-align: middle;\n",
              "    }\n",
              "\n",
              "    .dataframe tbody tr th {\n",
              "        vertical-align: top;\n",
              "    }\n",
              "\n",
              "    .dataframe thead th {\n",
              "        text-align: right;\n",
              "    }\n",
              "</style>\n",
              "<table border=\"1\" class=\"dataframe\">\n",
              "  <thead>\n",
              "    <tr style=\"text-align: right;\">\n",
              "      <th></th>\n",
              "      <th>cases</th>\n",
              "    </tr>\n",
              "    <tr>\n",
              "      <th>month</th>\n",
              "      <th></th>\n",
              "    </tr>\n",
              "  </thead>\n",
              "  <tbody>\n",
              "    <tr>\n",
              "      <th>Jan</th>\n",
              "      <td>0.0</td>\n",
              "    </tr>\n",
              "    <tr>\n",
              "      <th>Feb</th>\n",
              "      <td>1.0</td>\n",
              "    </tr>\n",
              "    <tr>\n",
              "      <th>Mar</th>\n",
              "      <td>65185.0</td>\n",
              "    </tr>\n",
              "    <tr>\n",
              "      <th>Apr</th>\n",
              "      <td>109308.0</td>\n",
              "    </tr>\n",
              "    <tr>\n",
              "      <th>May</th>\n",
              "      <td>28449.0</td>\n",
              "    </tr>\n",
              "    <tr>\n",
              "      <th>Jun</th>\n",
              "      <td>10879.0</td>\n",
              "    </tr>\n",
              "    <tr>\n",
              "      <th>Jul</th>\n",
              "      <td>9839.0</td>\n",
              "    </tr>\n",
              "    <tr>\n",
              "      <th>Aug</th>\n",
              "      <td>7484.0</td>\n",
              "    </tr>\n",
              "  </tbody>\n",
              "</table>\n",
              "</div>"
            ],
            "text/plain": [
              "          cases\n",
              "month          \n",
              "Jan         0.0\n",
              "Feb         1.0\n",
              "Mar     65185.0\n",
              "Apr    109308.0\n",
              "May     28449.0\n",
              "Jun     10879.0\n",
              "Jul      9839.0\n",
              "Aug      7484.0"
            ]
          },
          "metadata": {
            "tags": []
          },
          "execution_count": 13
        }
      ]
    },
    {
      "cell_type": "markdown",
      "metadata": {
        "id": "S7EV1Efhnmw7"
      },
      "source": [
        "# Data Analysis"
      ]
    },
    {
      "cell_type": "markdown",
      "metadata": {
        "id": "ozdzQ0wte5LX"
      },
      "source": [
        "## Number of Car Accidents per Month\n"
      ]
    },
    {
      "cell_type": "code",
      "metadata": {
        "colab": {
          "base_uri": "https://localhost:8080/",
          "height": 539
        },
        "id": "oawrjI2C3Tv1",
        "outputId": "68ade13a-189d-41c5-962b-6bcbd574d317"
      },
      "source": [
        "# Plots the number of accidents by month\n",
        "plt1 = df_crashes_total.plot(figsize=(15,8), kind='bar', rot=0)\n",
        "plt1.set_title('Total Number of Car Accidents per Month', fontsize = 18)\n",
        "plt1.set_ylabel('Number of Accidents', fontsize = 15)\n",
        "plt1.set_xlabel('Month', fontsize = 15)"
      ],
      "execution_count": 14,
      "outputs": [
        {
          "output_type": "execute_result",
          "data": {
            "text/plain": [
              "Text(0.5, 0, 'Month')"
            ]
          },
          "metadata": {
            "tags": []
          },
          "execution_count": 14
        },
        {
          "output_type": "display_data",
          "data": {
            "image/png": "[encoded data removed]",
            "text/plain": [
              "<Figure size 1080x576 with 1 Axes>"
            ]
          },
          "metadata": {
            "tags": [],
            "needs_background": "light"
          }
        }
      ]
    },
    {
      "cell_type": "markdown",
      "metadata": {
        "id": "uvsbrHL6hNzj"
      },
      "source": [
        "## Number of COVID-19 Cases per Month"
      ]
    },
    {
      "cell_type": "code",
      "metadata": {
        "colab": {
          "base_uri": "https://localhost:8080/",
          "height": 539
        },
        "id": "yU8R2z7btCO3",
        "outputId": "d67b667b-dc8b-4d3c-cb99-28936ab03aed"
      },
      "source": [
        "plt2 = df_cases_total.plot(figsize=(15,8), kind='bar', title='Number of Covid Cases per Month', rot=0)\r\n",
        "plt2.set_title('Total Number of COVID-19 Cases per Month', fontsize = 18)\r\n",
        "plt2.set_ylabel('Number of Cases', fontsize = 15)\r\n",
        "plt2.set_xlabel('Month', fontsize = 15)"
      ],
      "execution_count": 15,
      "outputs": [
        {
          "output_type": "execute_result",
          "data": {
            "text/plain": [
              "Text(0.5, 0, 'Month')"
            ]
          },
          "metadata": {
            "tags": []
          },
          "execution_count": 15
        },
        {
          "output_type": "display_data",
          "data": {
            "image/png": "[encoded data removed]",
            "text/plain": [
              "<Figure size 1080x576 with 1 Axes>"
            ]
          },
          "metadata": {
            "tags": [],
            "needs_background": "light"
          }
        }
      ]
    },
    {
      "cell_type": "markdown",
      "metadata": {
        "id": "Gjh0fjY0P51X"
      },
      "source": [
        "When comparing the two plots, during the month of April we notice that there is a significant spike in COVID-19 cases. On the other hand, we also notice a significant decline in the total number of crashes. Furthermore, as the number of COVID-19 cases begin to decline over the course of May, June, July, and August, we also see a considerable increase in car crashes in the same months.\r\n",
        "\r\n",
        "This evidently displays a negative relationship between COVID-19 and the frequency of car crashes.\r\n",
        "\r\n",
        "\r\n"
      ]
    },
    {
      "cell_type": "code",
      "metadata": {
        "id": "RvupZR2z62sO"
      },
      "source": [
        "# Create a new dataframe containing the car accidents where a fatality occurred\n",
        "df_fatal = df_crash[df_crash['people_killed'].astype(int)  > 0]"
      ],
      "execution_count": 16,
      "outputs": []
    },
    {
      "cell_type": "code",
      "metadata": {
        "colab": {
          "base_uri": "https://localhost:8080/",
          "height": 328
        },
        "id": "jIQlfxaiw6Jg",
        "outputId": "e37b18ee-1a5b-4441-961f-d1043a3275ce"
      },
      "source": [
        "df_cases_fatal = df_cases.groupby(['month'])[['deaths']].sum().reindex(index=months).fillna(0)\n",
        "df_cases_fatal"
      ],
      "execution_count": 17,
      "outputs": [
        {
          "output_type": "execute_result",
          "data": {
            "text/html": [
              "<div>\n",
              "<style scoped>\n",
              "    .dataframe tbody tr th:only-of-type {\n",
              "        vertical-align: middle;\n",
              "    }\n",
              "\n",
              "    .dataframe tbody tr th {\n",
              "        vertical-align: top;\n",
              "    }\n",
              "\n",
              "    .dataframe thead th {\n",
              "        text-align: right;\n",
              "    }\n",
              "</style>\n",
              "<table border=\"1\" class=\"dataframe\">\n",
              "  <thead>\n",
              "    <tr style=\"text-align: right;\">\n",
              "      <th></th>\n",
              "      <th>deaths</th>\n",
              "    </tr>\n",
              "    <tr>\n",
              "      <th>month</th>\n",
              "      <th></th>\n",
              "    </tr>\n",
              "  </thead>\n",
              "  <tbody>\n",
              "    <tr>\n",
              "      <th>Jan</th>\n",
              "      <td>0.0</td>\n",
              "    </tr>\n",
              "    <tr>\n",
              "      <th>Feb</th>\n",
              "      <td>0.0</td>\n",
              "    </tr>\n",
              "    <tr>\n",
              "      <th>Mar</th>\n",
              "      <td>2184.0</td>\n",
              "    </tr>\n",
              "    <tr>\n",
              "      <th>Apr</th>\n",
              "      <td>12726.0</td>\n",
              "    </tr>\n",
              "    <tr>\n",
              "      <th>May</th>\n",
              "      <td>2827.0</td>\n",
              "    </tr>\n",
              "    <tr>\n",
              "      <th>Jun</th>\n",
              "      <td>743.0</td>\n",
              "    </tr>\n",
              "    <tr>\n",
              "      <th>Jul</th>\n",
              "      <td>319.0</td>\n",
              "    </tr>\n",
              "    <tr>\n",
              "      <th>Aug</th>\n",
              "      <td>133.0</td>\n",
              "    </tr>\n",
              "  </tbody>\n",
              "</table>\n",
              "</div>"
            ],
            "text/plain": [
              "        deaths\n",
              "month         \n",
              "Jan        0.0\n",
              "Feb        0.0\n",
              "Mar     2184.0\n",
              "Apr    12726.0\n",
              "May     2827.0\n",
              "Jun      743.0\n",
              "Jul      319.0\n",
              "Aug      133.0"
            ]
          },
          "metadata": {
            "tags": []
          },
          "execution_count": 17
        }
      ]
    },
    {
      "cell_type": "code",
      "metadata": {
        "colab": {
          "base_uri": "https://localhost:8080/",
          "height": 539
        },
        "id": "PTenCwI-DmgB",
        "outputId": "bde64dd4-dcd8-479d-afef-f80d557f792b"
      },
      "source": [
        "plt3 = df_cases_fatal.plot(figsize=(15,8), kind='bar', rot=0)\r\n",
        "plt3.set_title('Total Number of COVID-19 Deaths per Month', fontsize = 18)\r\n",
        "plt3.set_ylabel('Number of Cases', fontsize = 15)\r\n",
        "plt3.set_xlabel('Month', fontsize = 15)"
      ],
      "execution_count": 18,
      "outputs": [
        {
          "output_type": "execute_result",
          "data": {
            "text/plain": [
              "Text(0.5, 0, 'Month')"
            ]
          },
          "metadata": {
            "tags": []
          },
          "execution_count": 18
        },
        {
          "output_type": "display_data",
          "data": {
            "image/png": "[encoded data removed]",
            "text/plain": [
              "<Figure size 1080x576 with 1 Axes>"
            ]
          },
          "metadata": {
            "tags": [],
            "needs_background": "light"
          }
        }
      ]
    },
    {
      "cell_type": "code",
      "metadata": {
        "id": "N-qf46xYLZT6",
        "colab": {
          "base_uri": "https://localhost:8080/",
          "height": 539
        },
        "outputId": "bb6f64c5-d45e-40eb-9b54-597aef9f2cff"
      },
      "source": [
        "# Plots the number of car accident fatalities by month\n",
        "plt4 = df_fatal['month'].value_counts().reindex(index=months).plot(figsize=(15,8), kind='bar', rot=0)\n",
        "plt4.set_title('Total Number of Car Accident Fatalities per Month', fontsize = 18)\n",
        "plt4.set_ylabel('Number of Accidents', fontsize = 15)\n",
        "plt4.set_xlabel('Month', fontsize = 15)"
      ],
      "execution_count": 19,
      "outputs": [
        {
          "output_type": "execute_result",
          "data": {
            "text/plain": [
              "Text(0.5, 0, 'Month')"
            ]
          },
          "metadata": {
            "tags": []
          },
          "execution_count": 19
        },
        {
          "output_type": "display_data",
          "data": {
            "image/png": "[encoded data removed]",
            "text/plain": [
              "<Figure size 1080x576 with 1 Axes>"
            ]
          },
          "metadata": {
            "tags": [],
            "needs_background": "light"
          }
        }
      ]
    },
    {
      "cell_type": "markdown",
      "metadata": {
        "id": "-yUD6chh_NyO"
      },
      "source": [
        "When we compare the data available on the fatalities that occurred from both COVID-19 and car crashes, we can once again see this negative relationship, where car crash fatalities decline as COVID-19 fatalities increase. "
      ]
    },
    {
      "cell_type": "markdown",
      "metadata": {
        "id": "qZAdr4ABstgD"
      },
      "source": [
        "## Linear Regression Analysis"
      ]
    },
    {
      "cell_type": "markdown",
      "metadata": {
        "id": "LUnZbe7Dsydu"
      },
      "source": [
        "These functions are used to standardize dates for both datasets so they can be merged together into a single DataFrame."
      ]
    },
    {
      "cell_type": "code",
      "metadata": {
        "id": "JCKIMlwSs6CI"
      },
      "source": [
        "def standardize_cases_date(date):\n",
        "  \"\"\"\n",
        "  Returns a reformated date that is separated with dashes(-) insteand of (/)\n",
        "  Input: MM/DD/YEAR\n",
        "  Output format: MM-DD-YEAR\n",
        "  To be used on COVID CASES DATASET\n",
        "  \"\"\"\n",
        "  split_date = date.split(\"/\")\n",
        "  new_date = \"-\".join(split_date)\n",
        "  return new_date"
      ],
      "execution_count": 20,
      "outputs": []
    },
    {
      "cell_type": "code",
      "metadata": {
        "id": "8nycsOXFs8VK"
      },
      "source": [
        "def standardize_crashes_date(date):\n",
        "  \"\"\"\n",
        "  Returns reformated date to match the other dataset\n",
        "  Input: YEAR-MM-DD\n",
        "  Output format: MM-DD-YEAR\n",
        "  To be used to NYC CRASHES DATASET\n",
        "  \"\"\"\n",
        "  split_date = date.split(\"-\")\n",
        "  year = split_date[0]\n",
        "  month = split_date[1]\n",
        "  day = split_date[2]\n",
        "  new_date = [month, day, year]\n",
        "  return \"-\".join(new_date)"
      ],
      "execution_count": 21,
      "outputs": []
    },
    {
      "cell_type": "markdown",
      "metadata": {
        "id": "L7dRGV48xrkd"
      },
      "source": [
        "### Cleaned up NYC COVID-19 cases DataFrame"
      ]
    },
    {
      "cell_type": "code",
      "metadata": {
        "colab": {
          "base_uri": "https://localhost:8080/",
          "height": 419
        },
        "id": "KQ9tuks2vMHe",
        "outputId": "55b1f60e-e2ae-4137-fb1b-b7441998275c"
      },
      "source": [
        "# making a new dataframe to be used for analysis\n",
        "# getting rid of columns not being used\n",
        "# standardizing date\n",
        "df_cases2 = df_cases.loc[:, ['date', 'cases']]\n",
        "df_cases2.rename(columns={'cases': 'case_count'}, inplace=True)\n",
        "df_cases2['date'] = df_cases2['date'].apply(standardize_cases_date)\n",
        "df_cases2"
      ],
      "execution_count": 22,
      "outputs": [
        {
          "output_type": "execute_result",
          "data": {
            "text/html": [
              "<div>\n",
              "<style scoped>\n",
              "    .dataframe tbody tr th:only-of-type {\n",
              "        vertical-align: middle;\n",
              "    }\n",
              "\n",
              "    .dataframe tbody tr th {\n",
              "        vertical-align: top;\n",
              "    }\n",
              "\n",
              "    .dataframe thead th {\n",
              "        text-align: right;\n",
              "    }\n",
              "</style>\n",
              "<table border=\"1\" class=\"dataframe\">\n",
              "  <thead>\n",
              "    <tr style=\"text-align: right;\">\n",
              "      <th></th>\n",
              "      <th>date</th>\n",
              "      <th>case_count</th>\n",
              "    </tr>\n",
              "  </thead>\n",
              "  <tbody>\n",
              "    <tr>\n",
              "      <th>0</th>\n",
              "      <td>02-29-2020</td>\n",
              "      <td>1</td>\n",
              "    </tr>\n",
              "    <tr>\n",
              "      <th>1</th>\n",
              "      <td>03-01-2020</td>\n",
              "      <td>0</td>\n",
              "    </tr>\n",
              "    <tr>\n",
              "      <th>2</th>\n",
              "      <td>03-02-2020</td>\n",
              "      <td>0</td>\n",
              "    </tr>\n",
              "    <tr>\n",
              "      <th>3</th>\n",
              "      <td>03-03-2020</td>\n",
              "      <td>1</td>\n",
              "    </tr>\n",
              "    <tr>\n",
              "      <th>4</th>\n",
              "      <td>03-04-2020</td>\n",
              "      <td>5</td>\n",
              "    </tr>\n",
              "    <tr>\n",
              "      <th>...</th>\n",
              "      <td>...</td>\n",
              "      <td>...</td>\n",
              "    </tr>\n",
              "    <tr>\n",
              "      <th>283</th>\n",
              "      <td>12-08-2020</td>\n",
              "      <td>2829</td>\n",
              "    </tr>\n",
              "    <tr>\n",
              "      <th>284</th>\n",
              "      <td>12-09-2020</td>\n",
              "      <td>2771</td>\n",
              "    </tr>\n",
              "    <tr>\n",
              "      <th>285</th>\n",
              "      <td>12-10-2020</td>\n",
              "      <td>2489</td>\n",
              "    </tr>\n",
              "    <tr>\n",
              "      <th>286</th>\n",
              "      <td>12-11-2020</td>\n",
              "      <td>2008</td>\n",
              "    </tr>\n",
              "    <tr>\n",
              "      <th>287</th>\n",
              "      <td>12-12-2020</td>\n",
              "      <td>1138</td>\n",
              "    </tr>\n",
              "  </tbody>\n",
              "</table>\n",
              "<p>288 rows × 2 columns</p>\n",
              "</div>"
            ],
            "text/plain": [
              "           date  case_count\n",
              "0    02-29-2020           1\n",
              "1    03-01-2020           0\n",
              "2    03-02-2020           0\n",
              "3    03-03-2020           1\n",
              "4    03-04-2020           5\n",
              "..          ...         ...\n",
              "283  12-08-2020        2829\n",
              "284  12-09-2020        2771\n",
              "285  12-10-2020        2489\n",
              "286  12-11-2020        2008\n",
              "287  12-12-2020        1138\n",
              "\n",
              "[288 rows x 2 columns]"
            ]
          },
          "metadata": {
            "tags": []
          },
          "execution_count": 22
        }
      ]
    },
    {
      "cell_type": "markdown",
      "metadata": {
        "id": "iS0RE2cox6qP"
      },
      "source": [
        "### Cleaned up NYC crashes DataFrame"
      ]
    },
    {
      "cell_type": "code",
      "metadata": {
        "colab": {
          "base_uri": "https://localhost:8080/",
          "height": 419
        },
        "id": "ePUbIcoLtBX5",
        "outputId": "d76db2f7-ae3c-4d41-ed83-0e5ac839e17b"
      },
      "source": [
        "df_crashes = df_crash.loc[:, ['date']]\n",
        "#making every row 1, to sum up\n",
        "df_crashes['crash_count'] = 1\n",
        "#getting crash counts\n",
        "aggregate_func = {'crash_count': 'sum'}\n",
        "df_crashes = df_crashes.groupby('date', as_index=False).aggregate(aggregate_func)\n",
        "#standarizing date\n",
        "df_crashes['date'] = df_crashes['date'].apply(standardize_crashes_date)\n",
        "df_crashes"
      ],
      "execution_count": 23,
      "outputs": [
        {
          "output_type": "execute_result",
          "data": {
            "text/html": [
              "<div>\n",
              "<style scoped>\n",
              "    .dataframe tbody tr th:only-of-type {\n",
              "        vertical-align: middle;\n",
              "    }\n",
              "\n",
              "    .dataframe tbody tr th {\n",
              "        vertical-align: top;\n",
              "    }\n",
              "\n",
              "    .dataframe thead th {\n",
              "        text-align: right;\n",
              "    }\n",
              "</style>\n",
              "<table border=\"1\" class=\"dataframe\">\n",
              "  <thead>\n",
              "    <tr style=\"text-align: right;\">\n",
              "      <th></th>\n",
              "      <th>date</th>\n",
              "      <th>crash_count</th>\n",
              "    </tr>\n",
              "  </thead>\n",
              "  <tbody>\n",
              "    <tr>\n",
              "      <th>0</th>\n",
              "      <td>01-01-2020</td>\n",
              "      <td>336</td>\n",
              "    </tr>\n",
              "    <tr>\n",
              "      <th>1</th>\n",
              "      <td>01-02-2020</td>\n",
              "      <td>409</td>\n",
              "    </tr>\n",
              "    <tr>\n",
              "      <th>2</th>\n",
              "      <td>01-03-2020</td>\n",
              "      <td>452</td>\n",
              "    </tr>\n",
              "    <tr>\n",
              "      <th>3</th>\n",
              "      <td>01-04-2020</td>\n",
              "      <td>347</td>\n",
              "    </tr>\n",
              "    <tr>\n",
              "      <th>4</th>\n",
              "      <td>01-05-2020</td>\n",
              "      <td>286</td>\n",
              "    </tr>\n",
              "    <tr>\n",
              "      <th>...</th>\n",
              "      <td>...</td>\n",
              "      <td>...</td>\n",
              "    </tr>\n",
              "    <tr>\n",
              "      <th>237</th>\n",
              "      <td>08-25-2020</td>\n",
              "      <td>264</td>\n",
              "    </tr>\n",
              "    <tr>\n",
              "      <th>238</th>\n",
              "      <td>08-26-2020</td>\n",
              "      <td>280</td>\n",
              "    </tr>\n",
              "    <tr>\n",
              "      <th>239</th>\n",
              "      <td>08-27-2020</td>\n",
              "      <td>281</td>\n",
              "    </tr>\n",
              "    <tr>\n",
              "      <th>240</th>\n",
              "      <td>08-28-2020</td>\n",
              "      <td>238</td>\n",
              "    </tr>\n",
              "    <tr>\n",
              "      <th>241</th>\n",
              "      <td>08-29-2020</td>\n",
              "      <td>206</td>\n",
              "    </tr>\n",
              "  </tbody>\n",
              "</table>\n",
              "<p>242 rows × 2 columns</p>\n",
              "</div>"
            ],
            "text/plain": [
              "           date  crash_count\n",
              "0    01-01-2020          336\n",
              "1    01-02-2020          409\n",
              "2    01-03-2020          452\n",
              "3    01-04-2020          347\n",
              "4    01-05-2020          286\n",
              "..          ...          ...\n",
              "237  08-25-2020          264\n",
              "238  08-26-2020          280\n",
              "239  08-27-2020          281\n",
              "240  08-28-2020          238\n",
              "241  08-29-2020          206\n",
              "\n",
              "[242 rows x 2 columns]"
            ]
          },
          "metadata": {
            "tags": []
          },
          "execution_count": 23
        }
      ]
    },
    {
      "cell_type": "markdown",
      "metadata": {
        "id": "hhqTmGMuyEsq"
      },
      "source": [
        "Both data sets are being merged into a single DataFrame so that they can be plotted on a scatterplot."
      ]
    },
    {
      "cell_type": "code",
      "metadata": {
        "colab": {
          "base_uri": "https://localhost:8080/",
          "height": 204
        },
        "id": "h2KrNNHtt548",
        "outputId": "4600bbe3-d9c9-427e-931e-0b8c65314454"
      },
      "source": [
        "df_merged = pd.merge(df_cases2, df_crashes, on='date')\n",
        "df_merged.head()"
      ],
      "execution_count": 24,
      "outputs": [
        {
          "output_type": "execute_result",
          "data": {
            "text/html": [
              "<div>\n",
              "<style scoped>\n",
              "    .dataframe tbody tr th:only-of-type {\n",
              "        vertical-align: middle;\n",
              "    }\n",
              "\n",
              "    .dataframe tbody tr th {\n",
              "        vertical-align: top;\n",
              "    }\n",
              "\n",
              "    .dataframe thead th {\n",
              "        text-align: right;\n",
              "    }\n",
              "</style>\n",
              "<table border=\"1\" class=\"dataframe\">\n",
              "  <thead>\n",
              "    <tr style=\"text-align: right;\">\n",
              "      <th></th>\n",
              "      <th>date</th>\n",
              "      <th>case_count</th>\n",
              "      <th>crash_count</th>\n",
              "    </tr>\n",
              "  </thead>\n",
              "  <tbody>\n",
              "    <tr>\n",
              "      <th>0</th>\n",
              "      <td>02-29-2020</td>\n",
              "      <td>1</td>\n",
              "      <td>456</td>\n",
              "    </tr>\n",
              "    <tr>\n",
              "      <th>1</th>\n",
              "      <td>03-01-2020</td>\n",
              "      <td>0</td>\n",
              "      <td>423</td>\n",
              "    </tr>\n",
              "    <tr>\n",
              "      <th>2</th>\n",
              "      <td>03-02-2020</td>\n",
              "      <td>0</td>\n",
              "      <td>562</td>\n",
              "    </tr>\n",
              "    <tr>\n",
              "      <th>3</th>\n",
              "      <td>03-03-2020</td>\n",
              "      <td>1</td>\n",
              "      <td>550</td>\n",
              "    </tr>\n",
              "    <tr>\n",
              "      <th>4</th>\n",
              "      <td>03-04-2020</td>\n",
              "      <td>5</td>\n",
              "      <td>541</td>\n",
              "    </tr>\n",
              "  </tbody>\n",
              "</table>\n",
              "</div>"
            ],
            "text/plain": [
              "         date  case_count  crash_count\n",
              "0  02-29-2020           1          456\n",
              "1  03-01-2020           0          423\n",
              "2  03-02-2020           0          562\n",
              "3  03-03-2020           1          550\n",
              "4  03-04-2020           5          541"
            ]
          },
          "metadata": {
            "tags": []
          },
          "execution_count": 24
        }
      ]
    },
    {
      "cell_type": "code",
      "metadata": {
        "colab": {
          "base_uri": "https://localhost:8080/",
          "height": 204
        },
        "id": "Fv8QRVGmyswg",
        "outputId": "6688f800-71a5-4df7-b53a-c54075fe16cd"
      },
      "source": [
        "#getting rid of outliers (like 0 and 1 cases in beginning of march)\n",
        "df_merged = df_merged[df_merged['case_count'] > 10] \n",
        "df_merged.head()"
      ],
      "execution_count": 25,
      "outputs": [
        {
          "output_type": "execute_result",
          "data": {
            "text/html": [
              "<div>\n",
              "<style scoped>\n",
              "    .dataframe tbody tr th:only-of-type {\n",
              "        vertical-align: middle;\n",
              "    }\n",
              "\n",
              "    .dataframe tbody tr th {\n",
              "        vertical-align: top;\n",
              "    }\n",
              "\n",
              "    .dataframe thead th {\n",
              "        text-align: right;\n",
              "    }\n",
              "</style>\n",
              "<table border=\"1\" class=\"dataframe\">\n",
              "  <thead>\n",
              "    <tr style=\"text-align: right;\">\n",
              "      <th></th>\n",
              "      <th>date</th>\n",
              "      <th>case_count</th>\n",
              "      <th>crash_count</th>\n",
              "    </tr>\n",
              "  </thead>\n",
              "  <tbody>\n",
              "    <tr>\n",
              "      <th>8</th>\n",
              "      <td>03-08-2020</td>\n",
              "      <td>21</td>\n",
              "      <td>408</td>\n",
              "    </tr>\n",
              "    <tr>\n",
              "      <th>9</th>\n",
              "      <td>03-09-2020</td>\n",
              "      <td>57</td>\n",
              "      <td>545</td>\n",
              "    </tr>\n",
              "    <tr>\n",
              "      <th>10</th>\n",
              "      <td>03-10-2020</td>\n",
              "      <td>69</td>\n",
              "      <td>449</td>\n",
              "    </tr>\n",
              "    <tr>\n",
              "      <th>11</th>\n",
              "      <td>03-11-2020</td>\n",
              "      <td>155</td>\n",
              "      <td>473</td>\n",
              "    </tr>\n",
              "    <tr>\n",
              "      <th>12</th>\n",
              "      <td>03-12-2020</td>\n",
              "      <td>355</td>\n",
              "      <td>455</td>\n",
              "    </tr>\n",
              "  </tbody>\n",
              "</table>\n",
              "</div>"
            ],
            "text/plain": [
              "          date  case_count  crash_count\n",
              "8   03-08-2020          21          408\n",
              "9   03-09-2020          57          545\n",
              "10  03-10-2020          69          449\n",
              "11  03-11-2020         155          473\n",
              "12  03-12-2020         355          455"
            ]
          },
          "metadata": {
            "tags": []
          },
          "execution_count": 25
        }
      ]
    },
    {
      "cell_type": "markdown",
      "metadata": {
        "id": "CNlfDDfay9UC"
      },
      "source": [
        "# Assumptions of Linear Regression\n",
        "1. Linear relationship\n",
        "2. Multivariate normality\n",
        "3. No multicollinearity\n",
        "4. No auto-correlation\n",
        "5. Homoscedasticity\n",
        "\n"
      ]
    },
    {
      "cell_type": "code",
      "metadata": {
        "colab": {
          "base_uri": "https://localhost:8080/",
          "height": 484
        },
        "id": "JIjkjd0zy7nK",
        "outputId": "ae047ffa-ee64-48ad-8066-08d3f6ff8139"
      },
      "source": [
        "sns.scatterplot(x='case_count', y='crash_count', data=df_merged)\n",
        "plt.title('Daily Crashes in NYC vs. Daily COVID-19 Cases', fontsize=18)\n",
        "plt.xlabel('Daily COVID-19 Cases', fontsize=15)\n",
        "plt.ylabel('Daily Crashes in NYC', fontsize=15)"
      ],
      "execution_count": 48,
      "outputs": [
        {
          "output_type": "execute_result",
          "data": {
            "text/plain": [
              "Text(0, 0.5, 'Daily Crashes in NYC')"
            ]
          },
          "metadata": {
            "tags": []
          },
          "execution_count": 48
        },
        {
          "output_type": "display_data",
          "data": {
            "image/png": "[encoded data removed]",
            "text/plain": [
              "<Figure size 1224x504 with 1 Axes>"
            ]
          },
          "metadata": {
            "tags": [],
            "needs_background": "light"
          }
        }
      ]
    },
    {
      "cell_type": "markdown",
      "metadata": {
        "id": "Brigj0vhzH3d"
      },
      "source": [
        "1. **Linear Relationship**: Observing the plot above, we can identify that there is a non-linear relationship between both sets of data. In order to apply linear regression on our data, we will have to use log-transformation on our data."
      ]
    },
    {
      "cell_type": "code",
      "metadata": {
        "colab": {
          "base_uri": "https://localhost:8080/",
          "height": 572
        },
        "id": "xapVYP22zDeo",
        "outputId": "b616c951-1245-4932-b25a-2dc7cec1dfc0"
      },
      "source": [
        "plt.subplot(1, 2, 1)\n",
        "sns.distplot(df_merged['case_count'])\n",
        "plt.ylabel('Density', fontsize=15)\n",
        "plt.xlabel('Daily Cases Count',fontsize=15)\n",
        "plt.title('Distribution of Daily Cases', fontsize=18)\n",
        "\n",
        "plt.subplot(1, 2, 2)\n",
        "sns.distplot(df_merged['crash_count'])\n",
        "plt.ylabel('Density', fontsize=15)\n",
        "plt.xlabel('Daily Crashes Count',fontsize=15)\n",
        "plt.title('Distribution of Daily Crashes', fontsize=18)"
      ],
      "execution_count": 40,
      "outputs": [
        {
          "output_type": "stream",
          "text": [
            "/usr/local/lib/python3.6/dist-packages/seaborn/distributions.py:2551: FutureWarning: `distplot` is a deprecated function and will be removed in a future version. Please adapt your code to use either `displot` (a figure-level function with similar flexibility) or `histplot` (an axes-level function for histograms).\n",
            "  warnings.warn(msg, FutureWarning)\n",
            "/usr/local/lib/python3.6/dist-packages/seaborn/distributions.py:2551: FutureWarning: `distplot` is a deprecated function and will be removed in a future version. Please adapt your code to use either `displot` (a figure-level function with similar flexibility) or `histplot` (an axes-level function for histograms).\n",
            "  warnings.warn(msg, FutureWarning)\n"
          ],
          "name": "stderr"
        },
        {
          "output_type": "execute_result",
          "data": {
            "text/plain": [
              "Text(0.5, 1.0, 'Distribution of Daily Crashes')"
            ]
          },
          "metadata": {
            "tags": []
          },
          "execution_count": 40
        },
        {
          "output_type": "display_data",
          "data": {
            "image/png": "[encoded data removed]",
            "text/plain": [
              "<Figure size 1224x504 with 2 Axes>"
            ]
          },
          "metadata": {
            "tags": [],
            "needs_background": "light"
          }
        }
      ]
    },
    {
      "cell_type": "markdown",
      "metadata": {
        "id": "yJJoSLY3zSc0"
      },
      "source": [
        "Both datasets seemed to be skewed to the right, so we can apply logarithmic transformation to the data to help us with out analysis"
      ]
    },
    {
      "cell_type": "code",
      "metadata": {
        "colab": {
          "base_uri": "https://localhost:8080/",
          "height": 204
        },
        "id": "2Fh0lN68zTp3",
        "outputId": "2e793aa2-8faa-45f1-fa2b-a73212673a6c"
      },
      "source": [
        "#log transforming predictor and outcome variables\n",
        "df_merged['case_count10'] = np.log10(df_merged['case_count'])\n",
        "df_merged['crash_count10'] = np.log10(df_merged['crash_count'])\n",
        "df_merged.head()"
      ],
      "execution_count": 28,
      "outputs": [
        {
          "output_type": "execute_result",
          "data": {
            "text/html": [
              "<div>\n",
              "<style scoped>\n",
              "    .dataframe tbody tr th:only-of-type {\n",
              "        vertical-align: middle;\n",
              "    }\n",
              "\n",
              "    .dataframe tbody tr th {\n",
              "        vertical-align: top;\n",
              "    }\n",
              "\n",
              "    .dataframe thead th {\n",
              "        text-align: right;\n",
              "    }\n",
              "</style>\n",
              "<table border=\"1\" class=\"dataframe\">\n",
              "  <thead>\n",
              "    <tr style=\"text-align: right;\">\n",
              "      <th></th>\n",
              "      <th>date</th>\n",
              "      <th>case_count</th>\n",
              "      <th>crash_count</th>\n",
              "      <th>case_count10</th>\n",
              "      <th>crash_count10</th>\n",
              "    </tr>\n",
              "  </thead>\n",
              "  <tbody>\n",
              "    <tr>\n",
              "      <th>8</th>\n",
              "      <td>03-08-2020</td>\n",
              "      <td>21</td>\n",
              "      <td>408</td>\n",
              "      <td>1.322219</td>\n",
              "      <td>2.610660</td>\n",
              "    </tr>\n",
              "    <tr>\n",
              "      <th>9</th>\n",
              "      <td>03-09-2020</td>\n",
              "      <td>57</td>\n",
              "      <td>545</td>\n",
              "      <td>1.755875</td>\n",
              "      <td>2.736397</td>\n",
              "    </tr>\n",
              "    <tr>\n",
              "      <th>10</th>\n",
              "      <td>03-10-2020</td>\n",
              "      <td>69</td>\n",
              "      <td>449</td>\n",
              "      <td>1.838849</td>\n",
              "      <td>2.652246</td>\n",
              "    </tr>\n",
              "    <tr>\n",
              "      <th>11</th>\n",
              "      <td>03-11-2020</td>\n",
              "      <td>155</td>\n",
              "      <td>473</td>\n",
              "      <td>2.190332</td>\n",
              "      <td>2.674861</td>\n",
              "    </tr>\n",
              "    <tr>\n",
              "      <th>12</th>\n",
              "      <td>03-12-2020</td>\n",
              "      <td>355</td>\n",
              "      <td>455</td>\n",
              "      <td>2.550228</td>\n",
              "      <td>2.658011</td>\n",
              "    </tr>\n",
              "  </tbody>\n",
              "</table>\n",
              "</div>"
            ],
            "text/plain": [
              "          date  case_count  crash_count  case_count10  crash_count10\n",
              "8   03-08-2020          21          408      1.322219       2.610660\n",
              "9   03-09-2020          57          545      1.755875       2.736397\n",
              "10  03-10-2020          69          449      1.838849       2.652246\n",
              "11  03-11-2020         155          473      2.190332       2.674861\n",
              "12  03-12-2020         355          455      2.550228       2.658011"
            ]
          },
          "metadata": {
            "tags": []
          },
          "execution_count": 28
        }
      ]
    },
    {
      "cell_type": "code",
      "metadata": {
        "colab": {
          "base_uri": "https://localhost:8080/",
          "height": 572
        },
        "id": "rH1-OMmMzY2V",
        "outputId": "802c018a-e0be-49a0-d9e3-534a5c529da0"
      },
      "source": [
        "plt.subplot(1, 2, 1)\n",
        "sns.distplot(df_merged['case_count10'])\n",
        "plt.ylabel('Density', fontsize=15)\n",
        "plt.xlabel('log10(Daily Cases Count)',fontsize=15)\n",
        "plt.title('Distribution of Daily Cases Post Log-Transformation', fontsize=18)\n",
        "\n",
        "plt.subplot(1, 2, 2)\n",
        "sns.distplot(df_merged['crash_count10'])\n",
        "plt.ylabel('Density', fontsize=15)\n",
        "plt.xlabel('log10(Daily Crashes Count)', fontsize=15)\n",
        "plt.title('Distribution of Daily Crashes Post Log-Transformation', fontsize=18)"
      ],
      "execution_count": 41,
      "outputs": [
        {
          "output_type": "stream",
          "text": [
            "/usr/local/lib/python3.6/dist-packages/seaborn/distributions.py:2551: FutureWarning: `distplot` is a deprecated function and will be removed in a future version. Please adapt your code to use either `displot` (a figure-level function with similar flexibility) or `histplot` (an axes-level function for histograms).\n",
            "  warnings.warn(msg, FutureWarning)\n",
            "/usr/local/lib/python3.6/dist-packages/seaborn/distributions.py:2551: FutureWarning: `distplot` is a deprecated function and will be removed in a future version. Please adapt your code to use either `displot` (a figure-level function with similar flexibility) or `histplot` (an axes-level function for histograms).\n",
            "  warnings.warn(msg, FutureWarning)\n"
          ],
          "name": "stderr"
        },
        {
          "output_type": "execute_result",
          "data": {
            "text/plain": [
              "Text(0.5, 1.0, 'Distribution of Daily Crashes Post Log-Transformation')"
            ]
          },
          "metadata": {
            "tags": []
          },
          "execution_count": 41
        },
        {
          "output_type": "display_data",
          "data": {
            "image/png": "[encoded data removed]",
            "text/plain": [
              "<Figure size 1224x504 with 2 Axes>"
            ]
          },
          "metadata": {
            "tags": [],
            "needs_background": "light"
          }
        }
      ]
    },
    {
      "cell_type": "code",
      "metadata": {
        "colab": {
          "base_uri": "https://localhost:8080/",
          "height": 484
        },
        "id": "C9kxkmXMzmEh",
        "outputId": "2eb4c574-b80a-43f0-c894-ae9a1e453763"
      },
      "source": [
        "#plotting transformed data\n",
        "sns.scatterplot(x='case_count10', y='crash_count10', data=df_merged)\n",
        "plt.xlabel('log10(Daily COVID-19 Cases)', fontsize=15)\n",
        "plt.ylabel('log10(Daily Crashes)', fontsize=15)\n",
        "plt.title(\"Log Transformed Data: Crashes vs. COVID-19 Cases\", fontsize=18)"
      ],
      "execution_count": 45,
      "outputs": [
        {
          "output_type": "execute_result",
          "data": {
            "text/plain": [
              "Text(0.5, 1.0, 'Log Transformed Data: Crashes vs. COVID-19 Cases')"
            ]
          },
          "metadata": {
            "tags": []
          },
          "execution_count": 45
        },
        {
          "output_type": "display_data",
          "data": {
            "image/png": "[encoded data removed]",
            "text/plain": [
              "<Figure size 1224x504 with 1 Axes>"
            ]
          },
          "metadata": {
            "tags": [],
            "needs_background": "light"
          }
        }
      ]
    },
    {
      "cell_type": "markdown",
      "metadata": {
        "id": "I-9xJ6JYFqMR"
      },
      "source": [
        "After log transforming our data, we can see from the scatterplot it represents some sort of linear relationship. "
      ]
    },
    {
      "cell_type": "markdown",
      "metadata": {
        "id": "Ou9Y7YsXzuuC"
      },
      "source": [
        "2. **Multivariate normality**: Data is transformed to ensure that we can assume that the variables we're using for linear regression have a normal distribution."
      ]
    },
    {
      "cell_type": "code",
      "metadata": {
        "colab": {
          "base_uri": "https://localhost:8080/",
          "height": 173
        },
        "id": "F5PBZCbSzvHr",
        "outputId": "c60e1182-3935-4f8d-b9ef-09abc154747e"
      },
      "source": [
        "df_merged.corr() #correlation between variables"
      ],
      "execution_count": 31,
      "outputs": [
        {
          "output_type": "execute_result",
          "data": {
            "text/html": [
              "<div>\n",
              "<style scoped>\n",
              "    .dataframe tbody tr th:only-of-type {\n",
              "        vertical-align: middle;\n",
              "    }\n",
              "\n",
              "    .dataframe tbody tr th {\n",
              "        vertical-align: top;\n",
              "    }\n",
              "\n",
              "    .dataframe thead th {\n",
              "        text-align: right;\n",
              "    }\n",
              "</style>\n",
              "<table border=\"1\" class=\"dataframe\">\n",
              "  <thead>\n",
              "    <tr style=\"text-align: right;\">\n",
              "      <th></th>\n",
              "      <th>case_count</th>\n",
              "      <th>crash_count</th>\n",
              "      <th>case_count10</th>\n",
              "      <th>crash_count10</th>\n",
              "    </tr>\n",
              "  </thead>\n",
              "  <tbody>\n",
              "    <tr>\n",
              "      <th>case_count</th>\n",
              "      <td>1.000000</td>\n",
              "      <td>-0.582183</td>\n",
              "      <td>0.903323</td>\n",
              "      <td>-0.651262</td>\n",
              "    </tr>\n",
              "    <tr>\n",
              "      <th>crash_count</th>\n",
              "      <td>-0.582183</td>\n",
              "      <td>1.000000</td>\n",
              "      <td>-0.675705</td>\n",
              "      <td>0.973422</td>\n",
              "    </tr>\n",
              "    <tr>\n",
              "      <th>case_count10</th>\n",
              "      <td>0.903323</td>\n",
              "      <td>-0.675705</td>\n",
              "      <td>1.000000</td>\n",
              "      <td>-0.724331</td>\n",
              "    </tr>\n",
              "    <tr>\n",
              "      <th>crash_count10</th>\n",
              "      <td>-0.651262</td>\n",
              "      <td>0.973422</td>\n",
              "      <td>-0.724331</td>\n",
              "      <td>1.000000</td>\n",
              "    </tr>\n",
              "  </tbody>\n",
              "</table>\n",
              "</div>"
            ],
            "text/plain": [
              "               case_count  crash_count  case_count10  crash_count10\n",
              "case_count       1.000000    -0.582183      0.903323      -0.651262\n",
              "crash_count     -0.582183     1.000000     -0.675705       0.973422\n",
              "case_count10     0.903323    -0.675705      1.000000      -0.724331\n",
              "crash_count10   -0.651262     0.973422     -0.724331       1.000000"
            ]
          },
          "metadata": {
            "tags": []
          },
          "execution_count": 31
        }
      ]
    },
    {
      "cell_type": "markdown",
      "metadata": {
        "id": "ELURKzl3z1mv"
      },
      "source": [
        "3. **No multicollinearity**: Correlation matrix calculated above, we can observe that the number of COVID-19 cases is not highly correlated with the number of car crashes. The same can also be applied to the log transformed variables.\n",
        "4. **No auto-correlation**: Variables are not auto correlated\n",
        "5. **Homoscedasticity**: Variance in the log transformed scatterplot appears to be about the same across the data points.\n",
        "\n",
        "All assumptions needed for linear regression are proven. We can now proceed with carrying out regression"
      ]
    },
    {
      "cell_type": "markdown",
      "metadata": {
        "id": "UM3B2z-Tz5OY"
      },
      "source": [
        "# Linear Regression with Log Transformed Data"
      ]
    },
    {
      "cell_type": "code",
      "metadata": {
        "colab": {
          "base_uri": "https://localhost:8080/"
        },
        "id": "AHwJNrnszzI-",
        "outputId": "29c7a205-640a-4de8-a817-f36f37495a95"
      },
      "source": [
        "# carry out regression using log-transformed predictor\n",
        "outcome, predictors = patsy.dmatrices('crash_count10 ~ case_count10', df_merged)\n",
        "mod = sm.OLS(outcome, predictors)\n",
        "res = mod.fit()\n",
        "print(res.summary())"
      ],
      "execution_count": 32,
      "outputs": [
        {
          "output_type": "stream",
          "text": [
            "                            OLS Regression Results                            \n",
            "==============================================================================\n",
            "Dep. Variable:          crash_count10   R-squared:                       0.525\n",
            "Model:                            OLS   Adj. R-squared:                  0.522\n",
            "Method:                 Least Squares   F-statistic:                     190.9\n",
            "Date:                Wed, 16 Dec 2020   Prob (F-statistic):           9.58e-30\n",
            "Time:                        11:01:45   Log-Likelihood:                 145.30\n",
            "No. Observations:                 175   AIC:                            -286.6\n",
            "Df Residuals:                     173   BIC:                            -280.3\n",
            "Df Model:                           1                                         \n",
            "Covariance Type:            nonrobust                                         \n",
            "================================================================================\n",
            "                   coef    std err          t      P>|t|      [0.025      0.975]\n",
            "--------------------------------------------------------------------------------\n",
            "Intercept        2.9721      0.045     66.631      0.000       2.884       3.060\n",
            "case_count10    -0.2154      0.016    -13.818      0.000      -0.246      -0.185\n",
            "==============================================================================\n",
            "Omnibus:                       19.874   Durbin-Watson:                   0.723\n",
            "Prob(Omnibus):                  0.000   Jarque-Bera (JB):               28.155\n",
            "Skew:                           0.667   Prob(JB):                     7.70e-07\n",
            "Kurtosis:                       4.443   Cond. No.                         17.8\n",
            "==============================================================================\n",
            "\n",
            "Warnings:\n",
            "[1] Standard Errors assume that the covariance matrix of the errors is correctly specified.\n"
          ],
          "name": "stdout"
        }
      ]
    },
    {
      "cell_type": "markdown",
      "metadata": {
        "id": "KfdBB9c00GnZ"
      },
      "source": [
        "## Result Interpretation\n",
        "\n"
      ]
    },
    {
      "cell_type": "markdown",
      "metadata": {
        "id": "Iez-xvjR0JJE"
      },
      "source": [
        "We can see that the *effect size*($\\beta$) estimate for case_count10 is `-0.2154`. But since we used log transformation on both of our variables. The equation can be written as:\n",
        "\n",
        "$$\\log_{10} (DailyCrashes) = 2.9722 - 0.2154*\\log_{10}(DailyCovidCases)$$\n",
        "\n",
        " \n",
        "We can intrepret this as for every one percent increase in `DailyCovidCases`, there would be a 0.2154 percent **decrease** in `DailyCrashes`\n",
        "\n",
        "\n",
        "Similarly another way we can intepret the change on the effect of `DailyCovidCases`, is to select two value for it, $C_2$ and  $C_1$. And getting rid fo the intercept would give us this equation.\n",
        "\n",
        "$$\\log_{10}(DailyCrashes(C_2)) - log_{10}(DailyCrashes(C_1)) = \\beta * [log_{10}(C_2) - log_{10}(C_1)]$$\n",
        "\n",
        "\n",
        "Simplifying this we would end up with:\n",
        "\n",
        "$$\\displaystyle\\frac{DailyCrashes(C_2)}{DailyCrashes(C_1)} = (\\frac{C_2}{C_1})^\\beta$$\n",
        "\n",
        "\n",
        "From the equation above, we can see that the ratio of $C_2$/$C_1$ is consistent with the ratio of\n",
        " $DailyCrashes(C_2)/DailyCrashes(C_1)$.\n",
        "\n",
        "Therefore, for a $10\\%$ increase in COVID-19 cases we would expect the ratio for traffic collisions to be \n",
        "\n",
        "$$(1.10)^\\beta = (1.10)^{-0.2154} \\approx 0.9796795$$\n",
        "\n",
        "In other words, a $10\\%$ increase in cases would result in a $2\\%$ decrease in traffic collisions in NYC.\n",
        "\n",
        "Additionally, given the R-squared value of 0.525, we can calculate the Pearson correlation to be:\n",
        "\n",
        "$$r = \\sqrt{0.525} \\approx \\pm0.7245688373$$\n",
        "\n",
        "Therefore, based on the regression coefficient of `-0.2154`, we can conclude the r value to be `-0.725`. Given this information, we can clearly see that our data has a negative correlation with each other."
      ]
    },
    {
      "cell_type": "markdown",
      "metadata": {
        "id": "LsK0c2Xc0P8h"
      },
      "source": [
        "## Visualizing the Model"
      ]
    },
    {
      "cell_type": "code",
      "metadata": {
        "colab": {
          "base_uri": "https://localhost:8080/",
          "height": 484
        },
        "id": "f3wuvz2x0MqE",
        "outputId": "0bd537e3-7267-4dd1-c382-c253f97f396a"
      },
      "source": [
        "# Plot the orginal data (as before)\n",
        "plt.scatter(df_merged['case_count10'], df_merged['crash_count10'], alpha=0.5, label='Data');\n",
        "\n",
        "# Generate and plot the model fit line\n",
        "xs = np.arange(df_merged['case_count10'].min(), df_merged['case_count10'].max()+.70)\n",
        "ys = 2.9722 - 0.2154 * xs\n",
        "plt.plot(xs, ys, '--k', linewidth=4, label='Model')\n",
        "\n",
        "plt.xlabel('log10(Daily COVID-19 Cases)', fontsize=15)\n",
        "plt.ylabel('log10(Daily Crashes)', fontsize=15)\n",
        "plt.title('Daily Crashes vs. Daily COVID-19 Cases Regression Model on Transformed Data', fontsize = 18)\n",
        "plt.legend()"
      ],
      "execution_count": 47,
      "outputs": [
        {
          "output_type": "execute_result",
          "data": {
            "text/plain": [
              "<matplotlib.legend.Legend at 0x7f69bbeaa6d8>"
            ]
          },
          "metadata": {
            "tags": []
          },
          "execution_count": 47
        },
        {
          "output_type": "display_data",
          "data": {
            "image/png": "[encoded data removed]",
            "text/plain": [
              "<Figure size 1224x504 with 1 Axes>"
            ]
          },
          "metadata": {
            "tags": [],
            "needs_background": "light"
          }
        }
      ]
    },
    {
      "cell_type": "markdown",
      "metadata": {
        "id": "5l7Qw-68MTsi"
      },
      "source": [
        "After performing linear regression on our log transformed data, we can clearly see that a **negative** relationship exists between our data.\r\n",
        "\r\n",
        "Based on the data we see above, as well as the results we got from using linear regression, we can confidently accept our hypothesis. The negative correlation between the two sets of data supports our prediction that as COVID-19 cases increase, traffic collisions are expected to decrease."
      ]
    },
    {
      "cell_type": "markdown",
      "metadata": {
        "id": "n6nPxeEr5MQI"
      },
      "source": [
        "# Ethics & Privacy"
      ]
    },
    {
      "cell_type": "markdown",
      "metadata": {
        "id": "GU8WpNfK5OsR"
      },
      "source": [
        "Our New York City Accidents in 2020 dataset was sourced from Kaggle, a data science company that publishes data sets. This specific data set was a New York City Police Department report, subjected to state public records. \r\n",
        "\r\n",
        "According to the author’s description, this file contains individual collisions, including date, time, location of the accident (burrough, zip-code, street name , latitude/longitude), and vehicles and victims involved. Although the author mentioned that the data set included the license plate and names of the individuals, this data was not included in the original data set. In order to protect the identification of these individuals, we followed the Safe Harbor Provision method, which limits the use and disclosure of protected health information and involves the process of de-identification; this ensures that any information that can be used to make individual identifications is removed. In our data study, we removed all identifiable information such as the geographic location (the site of the accident), collision ID, type of vehicle. \r\n",
        "\r\n",
        "The other dataset that contains the count of COVID-19 cases in NYC was also made publicly available on kaggle and It did not contain any sort of personal identifiable information.\r\n"
      ]
    },
    {
      "cell_type": "markdown",
      "metadata": {
        "id": "cZsk72dFM-t_"
      },
      "source": [
        "# Conclusion"
      ]
    },
    {
      "cell_type": "markdown",
      "metadata": {
        "id": "kFP7bPXSTui0"
      },
      "source": [
        "For this project, we sought out the relationship between the number of COVID-19 cases and the number of traffic collisions in New York City. After analyzing our data, we found that there exists a negative correlation between the two variables; As the number of COVID-19 cases increased, the number of traffic collisions decreased. This finding validates our hypothesis that traffic collisions decrease with an increase in COVID-19 cases, therefore we accept our hypothesis. \n",
        "\n",
        "Our data also shows that the initial surge in COVID-19 cases was when traffic collisions began going down. This data is reflective of the UC Davis article reporting that traffic accidents and related-injuries decreased during the onset of the pandemic. \n",
        "\n",
        "This demonstrates that the low number of traffic accidents might be the consequence of a rising infection rate and associated lock-down restrictions. However, as COVID-19 cases dipped in June, we see an increase in collision count and a jump in the fatality rate caused by traffic accidents. This can be the result of a confounding variable in quarantine fatigue causing more reckless behaviors as individuals started going outside again.\n",
        "\n",
        "The limitation of our study is that it is not generalizable across other geographic locations. This data only characterizes the city of New York, one of the areas with the most extreme conditions: it was the epicenter of the pandemic and a densely populated city where accidents are common. In order to compare NYC with other cities, it must be similar in urban layout and population density. \n",
        "\n",
        "With the analysis of this data, we attempt to understand and reveal unintended consequences of COVID-19 cases and related restrictions. Such insight can potentially aid in upholding the safety of the population in regards to covid-related changes in behavior and traffic. Additionally, in the near future, remote work can be implemented throughout more companies to reduce traffic collisions.\n"
      ]
    }
  ]
}